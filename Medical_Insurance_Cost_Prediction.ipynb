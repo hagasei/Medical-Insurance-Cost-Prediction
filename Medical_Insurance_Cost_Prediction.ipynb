{
 "cells": [
  {
   "cell_type": "markdown",
   "metadata": {},
   "source": []
  },
  {
   "cell_type": "code",
   "execution_count": 1,
   "metadata": {},
   "outputs": [],
   "source": [
    "import numpy as np\n",
    "import pandas as pd\n",
    "import matplotlib.pyplot as plt\n",
    "import seaborn as sns\n",
    "from sklearn.model_selection import train_test_split\n",
    "from sklearn.linear_model import LinearRegression\n",
    "from sklearn import metrics"
   ]
  },
  {
   "cell_type": "code",
   "execution_count": 2,
   "metadata": {},
   "outputs": [],
   "source": [
    "# loading the data from csv file to a Pandas DataFrame\n",
    "insurance_dataset = pd.read_csv('E:\\\\WORKSPACE\\\\Medical Cost Personal Datasets\\\\insurance copy.csv')"
   ]
  },
  {
   "cell_type": "code",
   "execution_count": 3,
   "metadata": {},
   "outputs": [
    {
     "data": {
      "text/html": [
       "<div>\n",
       "<style scoped>\n",
       "    .dataframe tbody tr th:only-of-type {\n",
       "        vertical-align: middle;\n",
       "    }\n",
       "\n",
       "    .dataframe tbody tr th {\n",
       "        vertical-align: top;\n",
       "    }\n",
       "\n",
       "    .dataframe thead th {\n",
       "        text-align: right;\n",
       "    }\n",
       "</style>\n",
       "<table border=\"1\" class=\"dataframe\">\n",
       "  <thead>\n",
       "    <tr style=\"text-align: right;\">\n",
       "      <th></th>\n",
       "      <th>age</th>\n",
       "      <th>sex</th>\n",
       "      <th>bmi</th>\n",
       "      <th>children</th>\n",
       "      <th>smoker</th>\n",
       "      <th>region, charges</th>\n",
       "    </tr>\n",
       "  </thead>\n",
       "  <tbody>\n",
       "    <tr>\n",
       "      <th>0</th>\n",
       "      <td>19.0</td>\n",
       "      <td>female</td>\n",
       "      <td>27.900</td>\n",
       "      <td>0.0</td>\n",
       "      <td>yes</td>\n",
       "      <td>southwest, 16884.924</td>\n",
       "    </tr>\n",
       "    <tr>\n",
       "      <th>1</th>\n",
       "      <td>18.0</td>\n",
       "      <td>male</td>\n",
       "      <td>33.770</td>\n",
       "      <td>1.0</td>\n",
       "      <td>no</td>\n",
       "      <td>southeast, 1725.5523</td>\n",
       "    </tr>\n",
       "    <tr>\n",
       "      <th>2</th>\n",
       "      <td>28.0</td>\n",
       "      <td>male</td>\n",
       "      <td>33.000</td>\n",
       "      <td>3.0</td>\n",
       "      <td>no</td>\n",
       "      <td>southeast, 4449.462</td>\n",
       "    </tr>\n",
       "    <tr>\n",
       "      <th>3</th>\n",
       "      <td>33.0</td>\n",
       "      <td>male</td>\n",
       "      <td>22.705</td>\n",
       "      <td>0.0</td>\n",
       "      <td>no</td>\n",
       "      <td>northwest, 21984.47061</td>\n",
       "    </tr>\n",
       "    <tr>\n",
       "      <th>4</th>\n",
       "      <td>32.0</td>\n",
       "      <td>male</td>\n",
       "      <td>28.880</td>\n",
       "      <td>0.0</td>\n",
       "      <td>no</td>\n",
       "      <td>northwest, 3866.8552</td>\n",
       "    </tr>\n",
       "  </tbody>\n",
       "</table>\n",
       "</div>"
      ],
      "text/plain": [
       "    age     sex     bmi  children smoker         region, charges\n",
       "0  19.0  female  27.900       0.0    yes    southwest, 16884.924\n",
       "1  18.0    male  33.770       1.0     no    southeast, 1725.5523\n",
       "2  28.0    male  33.000       3.0     no     southeast, 4449.462\n",
       "3  33.0    male  22.705       0.0     no  northwest, 21984.47061\n",
       "4  32.0    male  28.880       0.0     no    northwest, 3866.8552"
      ]
     },
     "execution_count": 3,
     "metadata": {},
     "output_type": "execute_result"
    }
   ],
   "source": [
    "# first 5 rows of the dataframe\n",
    "insurance_dataset.head()"
   ]
  },
  {
   "cell_type": "code",
   "execution_count": 4,
   "metadata": {},
   "outputs": [
    {
     "data": {
      "text/html": [
       "<div>\n",
       "<style scoped>\n",
       "    .dataframe tbody tr th:only-of-type {\n",
       "        vertical-align: middle;\n",
       "    }\n",
       "\n",
       "    .dataframe tbody tr th {\n",
       "        vertical-align: top;\n",
       "    }\n",
       "\n",
       "    .dataframe thead th {\n",
       "        text-align: right;\n",
       "    }\n",
       "</style>\n",
       "<table border=\"1\" class=\"dataframe\">\n",
       "  <thead>\n",
       "    <tr style=\"text-align: right;\">\n",
       "      <th></th>\n",
       "      <th>age</th>\n",
       "      <th>sex</th>\n",
       "      <th>bmi</th>\n",
       "      <th>children</th>\n",
       "      <th>smoker</th>\n",
       "      <th>region</th>\n",
       "      <th>charges</th>\n",
       "    </tr>\n",
       "  </thead>\n",
       "  <tbody>\n",
       "    <tr>\n",
       "      <th>0</th>\n",
       "      <td>19.0</td>\n",
       "      <td>female</td>\n",
       "      <td>27.900</td>\n",
       "      <td>0.0</td>\n",
       "      <td>yes</td>\n",
       "      <td>southwest</td>\n",
       "      <td>16884.92400</td>\n",
       "    </tr>\n",
       "    <tr>\n",
       "      <th>1</th>\n",
       "      <td>18.0</td>\n",
       "      <td>male</td>\n",
       "      <td>33.770</td>\n",
       "      <td>1.0</td>\n",
       "      <td>no</td>\n",
       "      <td>southeast</td>\n",
       "      <td>1725.55230</td>\n",
       "    </tr>\n",
       "    <tr>\n",
       "      <th>2</th>\n",
       "      <td>28.0</td>\n",
       "      <td>male</td>\n",
       "      <td>33.000</td>\n",
       "      <td>3.0</td>\n",
       "      <td>no</td>\n",
       "      <td>southeast</td>\n",
       "      <td>4449.46200</td>\n",
       "    </tr>\n",
       "    <tr>\n",
       "      <th>3</th>\n",
       "      <td>33.0</td>\n",
       "      <td>male</td>\n",
       "      <td>22.705</td>\n",
       "      <td>0.0</td>\n",
       "      <td>no</td>\n",
       "      <td>northwest</td>\n",
       "      <td>21984.47061</td>\n",
       "    </tr>\n",
       "    <tr>\n",
       "      <th>4</th>\n",
       "      <td>32.0</td>\n",
       "      <td>male</td>\n",
       "      <td>28.880</td>\n",
       "      <td>0.0</td>\n",
       "      <td>no</td>\n",
       "      <td>northwest</td>\n",
       "      <td>3866.85520</td>\n",
       "    </tr>\n",
       "    <tr>\n",
       "      <th>...</th>\n",
       "      <td>...</td>\n",
       "      <td>...</td>\n",
       "      <td>...</td>\n",
       "      <td>...</td>\n",
       "      <td>...</td>\n",
       "      <td>...</td>\n",
       "      <td>...</td>\n",
       "    </tr>\n",
       "    <tr>\n",
       "      <th>1333</th>\n",
       "      <td>50.0</td>\n",
       "      <td>male</td>\n",
       "      <td>30.970</td>\n",
       "      <td>3.0</td>\n",
       "      <td>no</td>\n",
       "      <td>northwest</td>\n",
       "      <td>10600.54830</td>\n",
       "    </tr>\n",
       "    <tr>\n",
       "      <th>1334</th>\n",
       "      <td>18.0</td>\n",
       "      <td>female</td>\n",
       "      <td>31.920</td>\n",
       "      <td>0.0</td>\n",
       "      <td>no</td>\n",
       "      <td>northeast</td>\n",
       "      <td>2205.98080</td>\n",
       "    </tr>\n",
       "    <tr>\n",
       "      <th>1335</th>\n",
       "      <td>18.0</td>\n",
       "      <td>female</td>\n",
       "      <td>36.850</td>\n",
       "      <td>0.0</td>\n",
       "      <td>no</td>\n",
       "      <td>southeast</td>\n",
       "      <td>1629.83350</td>\n",
       "    </tr>\n",
       "    <tr>\n",
       "      <th>1336</th>\n",
       "      <td>21.0</td>\n",
       "      <td>female</td>\n",
       "      <td>25.800</td>\n",
       "      <td>0.0</td>\n",
       "      <td>no</td>\n",
       "      <td>southwest</td>\n",
       "      <td>2007.94500</td>\n",
       "    </tr>\n",
       "    <tr>\n",
       "      <th>1337</th>\n",
       "      <td>61.0</td>\n",
       "      <td>female</td>\n",
       "      <td>29.070</td>\n",
       "      <td>0.0</td>\n",
       "      <td>yes</td>\n",
       "      <td>northwest</td>\n",
       "      <td>29141.36030</td>\n",
       "    </tr>\n",
       "  </tbody>\n",
       "</table>\n",
       "<p>1338 rows × 7 columns</p>\n",
       "</div>"
      ],
      "text/plain": [
       "       age     sex     bmi  children smoker     region      charges\n",
       "0     19.0  female  27.900       0.0    yes  southwest  16884.92400\n",
       "1     18.0    male  33.770       1.0     no  southeast   1725.55230\n",
       "2     28.0    male  33.000       3.0     no  southeast   4449.46200\n",
       "3     33.0    male  22.705       0.0     no  northwest  21984.47061\n",
       "4     32.0    male  28.880       0.0     no  northwest   3866.85520\n",
       "...    ...     ...     ...       ...    ...        ...          ...\n",
       "1333  50.0    male  30.970       3.0     no  northwest  10600.54830\n",
       "1334  18.0  female  31.920       0.0     no  northeast   2205.98080\n",
       "1335  18.0  female  36.850       0.0     no  southeast   1629.83350\n",
       "1336  21.0  female  25.800       0.0     no  southwest   2007.94500\n",
       "1337  61.0  female  29.070       0.0    yes  northwest  29141.36030\n",
       "\n",
       "[1338 rows x 7 columns]"
      ]
     },
     "execution_count": 4,
     "metadata": {},
     "output_type": "execute_result"
    }
   ],
   "source": [
    "# Tách cột 'region_charges' thành hai cột 'region' và 'charges'\n",
    "insurance_dataset[['region', 'charges']] = insurance_dataset['region, charges'].str.split(', ', expand=True)\n",
    "\n",
    "# Chuyển đổi cột 'charges' thành kiểu số thực\n",
    "insurance_dataset['charges'] = insurance_dataset['charges'].astype(float)\n",
    "\n",
    "# Xóa cột 'region_charges' ban đầu\n",
    "insurance_dataset.drop(columns=['region, charges'], inplace=True)\n",
    "\n",
    "insurance_dataset\n"
   ]
  },
  {
   "cell_type": "code",
   "execution_count": 5,
   "metadata": {},
   "outputs": [
    {
     "data": {
      "text/html": [
       "<div>\n",
       "<style scoped>\n",
       "    .dataframe tbody tr th:only-of-type {\n",
       "        vertical-align: middle;\n",
       "    }\n",
       "\n",
       "    .dataframe tbody tr th {\n",
       "        vertical-align: top;\n",
       "    }\n",
       "\n",
       "    .dataframe thead th {\n",
       "        text-align: right;\n",
       "    }\n",
       "</style>\n",
       "<table border=\"1\" class=\"dataframe\">\n",
       "  <thead>\n",
       "    <tr style=\"text-align: right;\">\n",
       "      <th></th>\n",
       "      <th>age</th>\n",
       "      <th>sex</th>\n",
       "      <th>bmi</th>\n",
       "      <th>children</th>\n",
       "      <th>smoker</th>\n",
       "      <th>region</th>\n",
       "      <th>charges</th>\n",
       "    </tr>\n",
       "  </thead>\n",
       "  <tbody>\n",
       "    <tr>\n",
       "      <th>0</th>\n",
       "      <td>19.0</td>\n",
       "      <td>female</td>\n",
       "      <td>27.900</td>\n",
       "      <td>0.0</td>\n",
       "      <td>yes</td>\n",
       "      <td>southwest</td>\n",
       "      <td>16884.92400</td>\n",
       "    </tr>\n",
       "    <tr>\n",
       "      <th>1</th>\n",
       "      <td>18.0</td>\n",
       "      <td>male</td>\n",
       "      <td>33.770</td>\n",
       "      <td>1.0</td>\n",
       "      <td>no</td>\n",
       "      <td>southeast</td>\n",
       "      <td>1725.55230</td>\n",
       "    </tr>\n",
       "    <tr>\n",
       "      <th>2</th>\n",
       "      <td>28.0</td>\n",
       "      <td>male</td>\n",
       "      <td>33.000</td>\n",
       "      <td>3.0</td>\n",
       "      <td>no</td>\n",
       "      <td>southeast</td>\n",
       "      <td>4449.46200</td>\n",
       "    </tr>\n",
       "    <tr>\n",
       "      <th>3</th>\n",
       "      <td>33.0</td>\n",
       "      <td>male</td>\n",
       "      <td>22.705</td>\n",
       "      <td>0.0</td>\n",
       "      <td>no</td>\n",
       "      <td>northwest</td>\n",
       "      <td>21984.47061</td>\n",
       "    </tr>\n",
       "    <tr>\n",
       "      <th>4</th>\n",
       "      <td>32.0</td>\n",
       "      <td>male</td>\n",
       "      <td>28.880</td>\n",
       "      <td>0.0</td>\n",
       "      <td>no</td>\n",
       "      <td>northwest</td>\n",
       "      <td>3866.85520</td>\n",
       "    </tr>\n",
       "    <tr>\n",
       "      <th>...</th>\n",
       "      <td>...</td>\n",
       "      <td>...</td>\n",
       "      <td>...</td>\n",
       "      <td>...</td>\n",
       "      <td>...</td>\n",
       "      <td>...</td>\n",
       "      <td>...</td>\n",
       "    </tr>\n",
       "    <tr>\n",
       "      <th>1333</th>\n",
       "      <td>50.0</td>\n",
       "      <td>male</td>\n",
       "      <td>30.970</td>\n",
       "      <td>3.0</td>\n",
       "      <td>no</td>\n",
       "      <td>northwest</td>\n",
       "      <td>10600.54830</td>\n",
       "    </tr>\n",
       "    <tr>\n",
       "      <th>1334</th>\n",
       "      <td>18.0</td>\n",
       "      <td>female</td>\n",
       "      <td>31.920</td>\n",
       "      <td>0.0</td>\n",
       "      <td>no</td>\n",
       "      <td>northeast</td>\n",
       "      <td>2205.98080</td>\n",
       "    </tr>\n",
       "    <tr>\n",
       "      <th>1335</th>\n",
       "      <td>18.0</td>\n",
       "      <td>female</td>\n",
       "      <td>36.850</td>\n",
       "      <td>0.0</td>\n",
       "      <td>no</td>\n",
       "      <td>southeast</td>\n",
       "      <td>1629.83350</td>\n",
       "    </tr>\n",
       "    <tr>\n",
       "      <th>1336</th>\n",
       "      <td>21.0</td>\n",
       "      <td>female</td>\n",
       "      <td>25.800</td>\n",
       "      <td>0.0</td>\n",
       "      <td>no</td>\n",
       "      <td>southwest</td>\n",
       "      <td>2007.94500</td>\n",
       "    </tr>\n",
       "    <tr>\n",
       "      <th>1337</th>\n",
       "      <td>61.0</td>\n",
       "      <td>female</td>\n",
       "      <td>29.070</td>\n",
       "      <td>0.0</td>\n",
       "      <td>yes</td>\n",
       "      <td>northwest</td>\n",
       "      <td>29141.36030</td>\n",
       "    </tr>\n",
       "  </tbody>\n",
       "</table>\n",
       "<p>1338 rows × 7 columns</p>\n",
       "</div>"
      ],
      "text/plain": [
       "       age     sex     bmi  children smoker     region      charges\n",
       "0     19.0  female  27.900       0.0    yes  southwest  16884.92400\n",
       "1     18.0    male  33.770       1.0     no  southeast   1725.55230\n",
       "2     28.0    male  33.000       3.0     no  southeast   4449.46200\n",
       "3     33.0    male  22.705       0.0     no  northwest  21984.47061\n",
       "4     32.0    male  28.880       0.0     no  northwest   3866.85520\n",
       "...    ...     ...     ...       ...    ...        ...          ...\n",
       "1333  50.0    male  30.970       3.0     no  northwest  10600.54830\n",
       "1334  18.0  female  31.920       0.0     no  northeast   2205.98080\n",
       "1335  18.0  female  36.850       0.0     no  southeast   1629.83350\n",
       "1336  21.0  female  25.800       0.0     no  southwest   2007.94500\n",
       "1337  61.0  female  29.070       0.0    yes  northwest  29141.36030\n",
       "\n",
       "[1338 rows x 7 columns]"
      ]
     },
     "execution_count": 5,
     "metadata": {},
     "output_type": "execute_result"
    }
   ],
   "source": [
    "insurance_dataset"
   ]
  },
  {
   "cell_type": "code",
   "execution_count": 6,
   "metadata": {},
   "outputs": [
    {
     "data": {
      "text/plain": [
       "(1338, 7)"
      ]
     },
     "execution_count": 6,
     "metadata": {},
     "output_type": "execute_result"
    }
   ],
   "source": [
    "# number of rows and columns\n",
    "insurance_dataset.shape"
   ]
  },
  {
   "cell_type": "code",
   "execution_count": 7,
   "metadata": {},
   "outputs": [
    {
     "name": "stdout",
     "output_type": "stream",
     "text": [
      "<class 'pandas.core.frame.DataFrame'>\n",
      "RangeIndex: 1338 entries, 0 to 1337\n",
      "Data columns (total 7 columns):\n",
      " #   Column    Non-Null Count  Dtype  \n",
      "---  ------    --------------  -----  \n",
      " 0   age       1338 non-null   float64\n",
      " 1   sex       1336 non-null   object \n",
      " 2   bmi       1336 non-null   float64\n",
      " 3   children  1338 non-null   float64\n",
      " 4   smoker    1338 non-null   object \n",
      " 5   region    1338 non-null   object \n",
      " 6   charges   1338 non-null   float64\n",
      "dtypes: float64(4), object(3)\n",
      "memory usage: 73.3+ KB\n"
     ]
    }
   ],
   "source": [
    "# getting some informations about the dataset\n",
    "insurance_dataset.info()"
   ]
  },
  {
   "cell_type": "code",
   "execution_count": 8,
   "metadata": {},
   "outputs": [
    {
     "data": {
      "text/plain": [
       "age         0\n",
       "sex         2\n",
       "bmi         2\n",
       "children    0\n",
       "smoker      0\n",
       "region      0\n",
       "charges     0\n",
       "dtype: int64"
      ]
     },
     "execution_count": 8,
     "metadata": {},
     "output_type": "execute_result"
    }
   ],
   "source": [
    "# checking for missing values\n",
    "insurance_dataset.isnull().sum()"
   ]
  },
  {
   "cell_type": "code",
   "execution_count": 9,
   "metadata": {},
   "outputs": [
    {
     "data": {
      "text/html": [
       "<div>\n",
       "<style scoped>\n",
       "    .dataframe tbody tr th:only-of-type {\n",
       "        vertical-align: middle;\n",
       "    }\n",
       "\n",
       "    .dataframe tbody tr th {\n",
       "        vertical-align: top;\n",
       "    }\n",
       "\n",
       "    .dataframe thead th {\n",
       "        text-align: right;\n",
       "    }\n",
       "</style>\n",
       "<table border=\"1\" class=\"dataframe\">\n",
       "  <thead>\n",
       "    <tr style=\"text-align: right;\">\n",
       "      <th></th>\n",
       "      <th>age</th>\n",
       "      <th>bmi</th>\n",
       "      <th>children</th>\n",
       "      <th>charges</th>\n",
       "    </tr>\n",
       "  </thead>\n",
       "  <tbody>\n",
       "    <tr>\n",
       "      <th>count</th>\n",
       "      <td>1338.0000</td>\n",
       "      <td>1336.0000</td>\n",
       "      <td>1338.0000</td>\n",
       "      <td>1338.0000</td>\n",
       "    </tr>\n",
       "    <tr>\n",
       "      <th>mean</th>\n",
       "      <td>39.0954</td>\n",
       "      <td>30.6693</td>\n",
       "      <td>1.0882</td>\n",
       "      <td>21113.4716</td>\n",
       "    </tr>\n",
       "    <tr>\n",
       "      <th>std</th>\n",
       "      <td>14.2575</td>\n",
       "      <td>6.0950</td>\n",
       "      <td>1.2112</td>\n",
       "      <td>208318.4233</td>\n",
       "    </tr>\n",
       "    <tr>\n",
       "      <th>min</th>\n",
       "      <td>-44.0000</td>\n",
       "      <td>15.9600</td>\n",
       "      <td>-4.0000</td>\n",
       "      <td>1121.8739</td>\n",
       "    </tr>\n",
       "    <tr>\n",
       "      <th>25%</th>\n",
       "      <td>26.0000</td>\n",
       "      <td>26.3087</td>\n",
       "      <td>0.0000</td>\n",
       "      <td>4740.2872</td>\n",
       "    </tr>\n",
       "    <tr>\n",
       "      <th>50%</th>\n",
       "      <td>39.0000</td>\n",
       "      <td>30.4000</td>\n",
       "      <td>1.0000</td>\n",
       "      <td>9382.0330</td>\n",
       "    </tr>\n",
       "    <tr>\n",
       "      <th>75%</th>\n",
       "      <td>51.0000</td>\n",
       "      <td>34.7000</td>\n",
       "      <td>2.0000</td>\n",
       "      <td>16639.9125</td>\n",
       "    </tr>\n",
       "    <tr>\n",
       "      <th>max</th>\n",
       "      <td>64.0000</td>\n",
       "      <td>53.1300</td>\n",
       "      <td>5.0000</td>\n",
       "      <td>6300770.4280</td>\n",
       "    </tr>\n",
       "  </tbody>\n",
       "</table>\n",
       "</div>"
      ],
      "text/plain": [
       "            age       bmi  children      charges\n",
       "count 1338.0000 1336.0000 1338.0000    1338.0000\n",
       "mean    39.0954   30.6693    1.0882   21113.4716\n",
       "std     14.2575    6.0950    1.2112  208318.4233\n",
       "min    -44.0000   15.9600   -4.0000    1121.8739\n",
       "25%     26.0000   26.3087    0.0000    4740.2872\n",
       "50%     39.0000   30.4000    1.0000    9382.0330\n",
       "75%     51.0000   34.7000    2.0000   16639.9125\n",
       "max     64.0000   53.1300    5.0000 6300770.4280"
      ]
     },
     "execution_count": 9,
     "metadata": {},
     "output_type": "execute_result"
    }
   ],
   "source": [
    "# statistical Measures of the dataset\n",
    "\n",
    "# Tùy chọn pandas để hiển thị đầy đủ số mà không dùng số mũ\n",
    "pd.set_option('display.float_format', '{:.4f}'.format)\n",
    "insurance_dataset.describe()"
   ]
  },
  {
   "cell_type": "code",
   "execution_count": 10,
   "metadata": {},
   "outputs": [
    {
     "data": {
      "text/html": [
       "<div>\n",
       "<style scoped>\n",
       "    .dataframe tbody tr th:only-of-type {\n",
       "        vertical-align: middle;\n",
       "    }\n",
       "\n",
       "    .dataframe tbody tr th {\n",
       "        vertical-align: top;\n",
       "    }\n",
       "\n",
       "    .dataframe thead th {\n",
       "        text-align: right;\n",
       "    }\n",
       "</style>\n",
       "<table border=\"1\" class=\"dataframe\">\n",
       "  <thead>\n",
       "    <tr style=\"text-align: right;\">\n",
       "      <th></th>\n",
       "      <th>age</th>\n",
       "      <th>sex</th>\n",
       "      <th>bmi</th>\n",
       "      <th>children</th>\n",
       "      <th>smoker</th>\n",
       "      <th>region</th>\n",
       "      <th>charges</th>\n",
       "    </tr>\n",
       "  </thead>\n",
       "  <tbody>\n",
       "    <tr>\n",
       "      <th>count</th>\n",
       "      <td>1338.0000</td>\n",
       "      <td>1336</td>\n",
       "      <td>1336.0000</td>\n",
       "      <td>1338.0000</td>\n",
       "      <td>1338</td>\n",
       "      <td>1338</td>\n",
       "      <td>1338.0000</td>\n",
       "    </tr>\n",
       "    <tr>\n",
       "      <th>unique</th>\n",
       "      <td>NaN</td>\n",
       "      <td>2</td>\n",
       "      <td>NaN</td>\n",
       "      <td>NaN</td>\n",
       "      <td>2</td>\n",
       "      <td>7</td>\n",
       "      <td>NaN</td>\n",
       "    </tr>\n",
       "    <tr>\n",
       "      <th>top</th>\n",
       "      <td>NaN</td>\n",
       "      <td>male</td>\n",
       "      <td>NaN</td>\n",
       "      <td>NaN</td>\n",
       "      <td>no</td>\n",
       "      <td>southeast</td>\n",
       "      <td>NaN</td>\n",
       "    </tr>\n",
       "    <tr>\n",
       "      <th>freq</th>\n",
       "      <td>NaN</td>\n",
       "      <td>675</td>\n",
       "      <td>NaN</td>\n",
       "      <td>NaN</td>\n",
       "      <td>1064</td>\n",
       "      <td>361</td>\n",
       "      <td>NaN</td>\n",
       "    </tr>\n",
       "    <tr>\n",
       "      <th>mean</th>\n",
       "      <td>39.0954</td>\n",
       "      <td>NaN</td>\n",
       "      <td>30.6693</td>\n",
       "      <td>1.0882</td>\n",
       "      <td>NaN</td>\n",
       "      <td>NaN</td>\n",
       "      <td>21113.4716</td>\n",
       "    </tr>\n",
       "    <tr>\n",
       "      <th>std</th>\n",
       "      <td>14.2575</td>\n",
       "      <td>NaN</td>\n",
       "      <td>6.0950</td>\n",
       "      <td>1.2112</td>\n",
       "      <td>NaN</td>\n",
       "      <td>NaN</td>\n",
       "      <td>208318.4233</td>\n",
       "    </tr>\n",
       "    <tr>\n",
       "      <th>min</th>\n",
       "      <td>-44.0000</td>\n",
       "      <td>NaN</td>\n",
       "      <td>15.9600</td>\n",
       "      <td>-4.0000</td>\n",
       "      <td>NaN</td>\n",
       "      <td>NaN</td>\n",
       "      <td>1121.8739</td>\n",
       "    </tr>\n",
       "    <tr>\n",
       "      <th>25%</th>\n",
       "      <td>26.0000</td>\n",
       "      <td>NaN</td>\n",
       "      <td>26.3087</td>\n",
       "      <td>0.0000</td>\n",
       "      <td>NaN</td>\n",
       "      <td>NaN</td>\n",
       "      <td>4740.2872</td>\n",
       "    </tr>\n",
       "    <tr>\n",
       "      <th>50%</th>\n",
       "      <td>39.0000</td>\n",
       "      <td>NaN</td>\n",
       "      <td>30.4000</td>\n",
       "      <td>1.0000</td>\n",
       "      <td>NaN</td>\n",
       "      <td>NaN</td>\n",
       "      <td>9382.0330</td>\n",
       "    </tr>\n",
       "    <tr>\n",
       "      <th>75%</th>\n",
       "      <td>51.0000</td>\n",
       "      <td>NaN</td>\n",
       "      <td>34.7000</td>\n",
       "      <td>2.0000</td>\n",
       "      <td>NaN</td>\n",
       "      <td>NaN</td>\n",
       "      <td>16639.9125</td>\n",
       "    </tr>\n",
       "    <tr>\n",
       "      <th>max</th>\n",
       "      <td>64.0000</td>\n",
       "      <td>NaN</td>\n",
       "      <td>53.1300</td>\n",
       "      <td>5.0000</td>\n",
       "      <td>NaN</td>\n",
       "      <td>NaN</td>\n",
       "      <td>6300770.4280</td>\n",
       "    </tr>\n",
       "  </tbody>\n",
       "</table>\n",
       "</div>"
      ],
      "text/plain": [
       "             age   sex       bmi  children smoker     region      charges\n",
       "count  1338.0000  1336 1336.0000 1338.0000   1338       1338    1338.0000\n",
       "unique       NaN     2       NaN       NaN      2          7          NaN\n",
       "top          NaN  male       NaN       NaN     no  southeast          NaN\n",
       "freq         NaN   675       NaN       NaN   1064        361          NaN\n",
       "mean     39.0954   NaN   30.6693    1.0882    NaN        NaN   21113.4716\n",
       "std      14.2575   NaN    6.0950    1.2112    NaN        NaN  208318.4233\n",
       "min     -44.0000   NaN   15.9600   -4.0000    NaN        NaN    1121.8739\n",
       "25%      26.0000   NaN   26.3087    0.0000    NaN        NaN    4740.2872\n",
       "50%      39.0000   NaN   30.4000    1.0000    NaN        NaN    9382.0330\n",
       "75%      51.0000   NaN   34.7000    2.0000    NaN        NaN   16639.9125\n",
       "max      64.0000   NaN   53.1300    5.0000    NaN        NaN 6300770.4280"
      ]
     },
     "execution_count": 10,
     "metadata": {},
     "output_type": "execute_result"
    }
   ],
   "source": [
    "# statistical Measures of the dataset\n",
    "\n",
    "# Tùy chọn pandas để hiển thị đầy đủ số mà không dùng số mũ\n",
    "pd.set_option('display.float_format', '{:.4f}'.format)\n",
    "insurance_dataset.describe(include='all')"
   ]
  },
  {
   "cell_type": "code",
   "execution_count": 11,
   "metadata": {},
   "outputs": [
    {
     "name": "stdout",
     "output_type": "stream",
     "text": [
      "\n",
      "Dữ liệu sau khi xử lý:\n",
      "      age     sex     bmi  children smoker     region    charges\n",
      "0      19  female 27.9000    0.0000    yes  southwest 16884.9240\n",
      "1      18    male 33.7700    1.0000     no  southeast  1725.5523\n",
      "2      28    male 33.0000    3.0000     no  southeast  4449.4620\n",
      "3      33    male 22.7050    0.0000     no  northwest 21984.4706\n",
      "4      32    male 28.8800    0.0000     no  northwest  3866.8552\n",
      "...   ...     ...     ...       ...    ...        ...        ...\n",
      "1333   50    male 30.9700    3.0000     no  northwest 10600.5483\n",
      "1334   18  female 31.9200    0.0000     no  northeast  2205.9808\n",
      "1335   18  female 36.8500    0.0000     no  southeast  1629.8335\n",
      "1336   21  female 25.8000    0.0000     no  southwest  2007.9450\n",
      "1337   61  female 29.0700    0.0000    yes  northwest 29141.3603\n",
      "\n",
      "[1338 rows x 7 columns]\n",
      "\n",
      "Có giá trị không thể chuyển đổi thành số nguyên. Hãy xử lý giá trị NaN theo yêu cầu.\n"
     ]
    }
   ],
   "source": [
    "# Hàm kiểm tra và chuyển đổi giá trị cột 'age'\n",
    "def validate_and_correct_age(age):\n",
    "    try:\n",
    "        age = float(age)\n",
    "        if age <= 0:\n",
    "            age = abs(age)\n",
    "        return int(age)\n",
    "    except ValueError:\n",
    "        return 0\n",
    "\n",
    "# Áp dụng hàm trên cột 'age'\n",
    "insurance_dataset['age'] = insurance_dataset['age'].apply(validate_and_correct_age)\n",
    "\n",
    "print(\"\\nDữ liệu sau khi xử lý:\")\n",
    "print(insurance_dataset)\n",
    "\n",
    "# Kiểm tra và xử lý giá trị NaN nếu có\n",
    "if insurance_dataset['age'].isna().sum() >= 0:\n",
    "    print(\"\\nCó giá trị không thể chuyển đổi thành số nguyên. Hãy xử lý giá trị NaN theo yêu cầu.\")\n",
    "else:\n",
    "    print(\"\\nKhông có giá trị nào không thể chuyển đổi thành số nguyên.\")\n"
   ]
  },
  {
   "cell_type": "code",
   "execution_count": 12,
   "metadata": {},
   "outputs": [
    {
     "data": {
      "text/html": [
       "<div>\n",
       "<style scoped>\n",
       "    .dataframe tbody tr th:only-of-type {\n",
       "        vertical-align: middle;\n",
       "    }\n",
       "\n",
       "    .dataframe tbody tr th {\n",
       "        vertical-align: top;\n",
       "    }\n",
       "\n",
       "    .dataframe thead th {\n",
       "        text-align: right;\n",
       "    }\n",
       "</style>\n",
       "<table border=\"1\" class=\"dataframe\">\n",
       "  <thead>\n",
       "    <tr style=\"text-align: right;\">\n",
       "      <th></th>\n",
       "      <th>age</th>\n",
       "      <th>sex</th>\n",
       "      <th>bmi</th>\n",
       "      <th>children</th>\n",
       "      <th>smoker</th>\n",
       "      <th>region</th>\n",
       "      <th>charges</th>\n",
       "    </tr>\n",
       "  </thead>\n",
       "  <tbody>\n",
       "    <tr>\n",
       "      <th>894</th>\n",
       "      <td>0</td>\n",
       "      <td>male</td>\n",
       "      <td>32.1100</td>\n",
       "      <td>0.0000</td>\n",
       "      <td>no</td>\n",
       "      <td>northeast</td>\n",
       "      <td>13555.0049</td>\n",
       "    </tr>\n",
       "  </tbody>\n",
       "</table>\n",
       "</div>"
      ],
      "text/plain": [
       "     age   sex     bmi  children smoker     region    charges\n",
       "894    0  male 32.1100    0.0000     no  northeast 13555.0049"
      ]
     },
     "execution_count": 12,
     "metadata": {},
     "output_type": "execute_result"
    }
   ],
   "source": [
    "# Kiểm tra và lọc các hàng có giá trị âm hoặc bằng 0 trong cột 'age'\n",
    "invalid_ages = insurance_dataset[insurance_dataset['age'].apply(lambda x: float(x) <= 0 if isinstance(x, (int, float, str)) else False)]\n",
    "invalid_ages"
   ]
  },
  {
   "cell_type": "code",
   "execution_count": 13,
   "metadata": {},
   "outputs": [
    {
     "name": "stdout",
     "output_type": "stream",
     "text": [
      "\n",
      "Dữ liệu sau khi thay thế các giá trị không hợp lệ và 0 bằng giá trị trung bình:\n",
      "      age     sex     bmi  children smoker     region    charges\n",
      "0      19  female 27.9000    0.0000    yes  southwest 16884.9240\n",
      "1      18    male 33.7700    1.0000     no  southeast  1725.5523\n",
      "2      28    male 33.0000    3.0000     no  southeast  4449.4620\n",
      "3      33    male 22.7050    0.0000     no  northwest 21984.4706\n",
      "4      32    male 28.8800    0.0000     no  northwest  3866.8552\n",
      "...   ...     ...     ...       ...    ...        ...        ...\n",
      "1333   50    male 30.9700    3.0000     no  northwest 10600.5483\n",
      "1334   18  female 31.9200    0.0000     no  northeast  2205.9808\n",
      "1335   18  female 36.8500    0.0000     no  southeast  1629.8335\n",
      "1336   21  female 25.8000    0.0000     no  southwest  2007.9450\n",
      "1337   61  female 29.0700    0.0000    yes  northwest 29141.3603\n",
      "\n",
      "[1338 rows x 7 columns]\n"
     ]
    }
   ],
   "source": [
    "# Tính giá trị trung bình của cột 'age' \n",
    "mean_age = insurance_dataset['age'].mean()\n",
    "\n",
    "# Làm tròn giá trị trung bình thành số nguyên\n",
    "mean_age = int(round(mean_age))\n",
    "\n",
    "# Thay thế các giá trị 0 bằng giá trị trung bình\n",
    "insurance_dataset['age'] = insurance_dataset['age'].replace(0, mean_age)\n",
    "\n",
    "print(\"\\nDữ liệu sau khi thay thế các giá trị không hợp lệ và 0 bằng giá trị trung bình:\")\n",
    "print(insurance_dataset)\n"
   ]
  },
  {
   "cell_type": "code",
   "execution_count": 14,
   "metadata": {},
   "outputs": [
    {
     "name": "stdout",
     "output_type": "stream",
     "text": [
      "             age   sex       bmi  children smoker     region      charges\n",
      "count  1338.0000  1336 1336.0000 1338.0000   1338       1338    1338.0000\n",
      "unique       NaN     2       NaN       NaN      2          7          NaN\n",
      "top          NaN  male       NaN       NaN     no  southeast          NaN\n",
      "freq         NaN   675       NaN       NaN   1064        361          NaN\n",
      "mean     39.1898   NaN   30.6693    1.0882    NaN        NaN   21113.4716\n",
      "std      14.0361   NaN    6.0950    1.2112    NaN        NaN  208318.4233\n",
      "min      18.0000   NaN   15.9600   -4.0000    NaN        NaN    1121.8739\n",
      "25%      27.0000   NaN   26.3087    0.0000    NaN        NaN    4740.2872\n",
      "50%      39.0000   NaN   30.4000    1.0000    NaN        NaN    9382.0330\n",
      "75%      51.0000   NaN   34.7000    2.0000    NaN        NaN   16639.9125\n",
      "max      64.0000   NaN   53.1300    5.0000    NaN        NaN 6300770.4280\n",
      "age         0\n",
      "sex         2\n",
      "bmi         2\n",
      "children    0\n",
      "smoker      0\n",
      "region      0\n",
      "charges     0\n",
      "dtype: int64\n"
     ]
    }
   ],
   "source": [
    "print(insurance_dataset.describe(include='all'))\n",
    "# checking for missing values\n",
    "print(insurance_dataset.isnull().sum())"
   ]
  },
  {
   "cell_type": "code",
   "execution_count": 15,
   "metadata": {},
   "outputs": [
    {
     "name": "stdout",
     "output_type": "stream",
     "text": [
      "sex\n",
      "male     0.5052\n",
      "female   0.4948\n",
      "Name: proportion, dtype: float64\n",
      "\n",
      "Tỷ lệ phân phối: male=0.51, female=0.49\n",
      "\n",
      "Dữ liệu sau khi thay thế giá trị thiếu:\n",
      "      age     sex     bmi  children smoker     region    charges\n",
      "0      19  female 27.9000    0.0000    yes  southwest 16884.9240\n",
      "1      18    male 33.7700    1.0000     no  southeast  1725.5523\n",
      "2      28    male 33.0000    3.0000     no  southeast  4449.4620\n",
      "3      33    male 22.7050    0.0000     no  northwest 21984.4706\n",
      "4      32    male 28.8800    0.0000     no  northwest  3866.8552\n",
      "...   ...     ...     ...       ...    ...        ...        ...\n",
      "1333   50    male 30.9700    3.0000     no  northwest 10600.5483\n",
      "1334   18  female 31.9200    0.0000     no  northeast  2205.9808\n",
      "1335   18  female 36.8500    0.0000     no  southeast  1629.8335\n",
      "1336   21  female 25.8000    0.0000     no  southwest  2007.9450\n",
      "1337   61  female 29.0700    0.0000    yes  northwest 29141.3603\n",
      "\n",
      "[1338 rows x 7 columns]\n"
     ]
    }
   ],
   "source": [
    "# Tính tỷ lệ phân phối\n",
    "sex_counts = insurance_dataset['sex'].value_counts(normalize=True)\n",
    "male_ratio = sex_counts.get('male', 0)\n",
    "female_ratio = sex_counts.get('female', 0)\n",
    "print(sex_counts)\n",
    "# Đảm bảo tổng xác suất là 1 và không bằng 0\n",
    "total_ratio = male_ratio + female_ratio\n",
    "if total_ratio != 0:\n",
    "    male_ratio = male_ratio / total_ratio\n",
    "    female_ratio = female_ratio / total_ratio\n",
    "\n",
    "print(f\"\\nTỷ lệ phân phối: male={male_ratio:.2f}, female={female_ratio:.2f}\")\n",
    "\n",
    "# Tạo một mảng các giá trị cần thay thế theo tỷ lệ phân phối\n",
    "if total_ratio != 0:\n",
    "    values_to_fill = np.random.choice(['male', 'female'], size=insurance_dataset['sex'].isna().sum(), p=[male_ratio, female_ratio])\n",
    "else:\n",
    "    values_to_fill = np.random.choice(['male', 'female'], size=insurance_dataset['sex'].isna().sum())\n",
    "\n",
    "# Thay thế giá trị thiếu bằng các giá trị được tạo ra\n",
    "insurance_dataset.loc[insurance_dataset['sex'].isna(), 'sex'] = values_to_fill\n",
    "\n",
    "print(\"\\nDữ liệu sau khi thay thế giá trị thiếu:\")\n",
    "print(insurance_dataset)"
   ]
  },
  {
   "cell_type": "code",
   "execution_count": 16,
   "metadata": {},
   "outputs": [
    {
     "name": "stdout",
     "output_type": "stream",
     "text": [
      "             age   sex       bmi  children smoker     region      charges\n",
      "count  1338.0000  1338 1336.0000 1338.0000   1338       1338    1338.0000\n",
      "unique       NaN     2       NaN       NaN      2          7          NaN\n",
      "top          NaN  male       NaN       NaN     no  southeast          NaN\n",
      "freq         NaN   676       NaN       NaN   1064        361          NaN\n",
      "mean     39.1898   NaN   30.6693    1.0882    NaN        NaN   21113.4716\n",
      "std      14.0361   NaN    6.0950    1.2112    NaN        NaN  208318.4233\n",
      "min      18.0000   NaN   15.9600   -4.0000    NaN        NaN    1121.8739\n",
      "25%      27.0000   NaN   26.3087    0.0000    NaN        NaN    4740.2872\n",
      "50%      39.0000   NaN   30.4000    1.0000    NaN        NaN    9382.0330\n",
      "75%      51.0000   NaN   34.7000    2.0000    NaN        NaN   16639.9125\n",
      "max      64.0000   NaN   53.1300    5.0000    NaN        NaN 6300770.4280\n",
      "\n",
      "age         0\n",
      "sex         0\n",
      "bmi         2\n",
      "children    0\n",
      "smoker      0\n",
      "region      0\n",
      "charges     0\n",
      "dtype: int64\n"
     ]
    }
   ],
   "source": [
    "print(insurance_dataset.describe(include='all'))\n",
    "print()\n",
    "# checking for missing values\n",
    "print(insurance_dataset.isnull().sum())"
   ]
  },
  {
   "cell_type": "code",
   "execution_count": 17,
   "metadata": {},
   "outputs": [
    {
     "name": "stdout",
     "output_type": "stream",
     "text": [
      "After handling missing values:\n",
      " age         0\n",
      "sex         0\n",
      "bmi         0\n",
      "children    0\n",
      "smoker      0\n",
      "region      0\n",
      "charges     0\n",
      "dtype: int64\n"
     ]
    }
   ],
   "source": [
    "# Thay thế giá trị thiếu bằng giá trị trung bình của cột 'bmi'\n",
    "insurance_dataset['bmi'] = insurance_dataset['bmi'].fillna(insurance_dataset['bmi'].mean())\n",
    "\n",
    "# Kiểm tra xem còn giá trị nào bị thiếu không\n",
    "print(\"After handling missing values:\\n\", insurance_dataset.isnull().sum())\n"
   ]
  },
  {
   "cell_type": "code",
   "execution_count": 18,
   "metadata": {},
   "outputs": [
    {
     "data": {
      "text/html": [
       "<div>\n",
       "<style scoped>\n",
       "    .dataframe tbody tr th:only-of-type {\n",
       "        vertical-align: middle;\n",
       "    }\n",
       "\n",
       "    .dataframe tbody tr th {\n",
       "        vertical-align: top;\n",
       "    }\n",
       "\n",
       "    .dataframe thead th {\n",
       "        text-align: right;\n",
       "    }\n",
       "</style>\n",
       "<table border=\"1\" class=\"dataframe\">\n",
       "  <thead>\n",
       "    <tr style=\"text-align: right;\">\n",
       "      <th></th>\n",
       "      <th>age</th>\n",
       "      <th>sex</th>\n",
       "      <th>bmi</th>\n",
       "      <th>children</th>\n",
       "      <th>smoker</th>\n",
       "      <th>region</th>\n",
       "      <th>charges</th>\n",
       "    </tr>\n",
       "  </thead>\n",
       "  <tbody>\n",
       "    <tr>\n",
       "      <th>0</th>\n",
       "      <td>19</td>\n",
       "      <td>female</td>\n",
       "      <td>27.9000</td>\n",
       "      <td>0.0000</td>\n",
       "      <td>yes</td>\n",
       "      <td>southwest</td>\n",
       "      <td>16884.9240</td>\n",
       "    </tr>\n",
       "    <tr>\n",
       "      <th>1</th>\n",
       "      <td>18</td>\n",
       "      <td>male</td>\n",
       "      <td>33.7700</td>\n",
       "      <td>1.0000</td>\n",
       "      <td>no</td>\n",
       "      <td>southeast</td>\n",
       "      <td>1725.5523</td>\n",
       "    </tr>\n",
       "    <tr>\n",
       "      <th>2</th>\n",
       "      <td>28</td>\n",
       "      <td>male</td>\n",
       "      <td>33.0000</td>\n",
       "      <td>3.0000</td>\n",
       "      <td>no</td>\n",
       "      <td>southeast</td>\n",
       "      <td>4449.4620</td>\n",
       "    </tr>\n",
       "    <tr>\n",
       "      <th>3</th>\n",
       "      <td>33</td>\n",
       "      <td>male</td>\n",
       "      <td>22.7050</td>\n",
       "      <td>0.0000</td>\n",
       "      <td>no</td>\n",
       "      <td>northwest</td>\n",
       "      <td>21984.4706</td>\n",
       "    </tr>\n",
       "    <tr>\n",
       "      <th>4</th>\n",
       "      <td>32</td>\n",
       "      <td>male</td>\n",
       "      <td>28.8800</td>\n",
       "      <td>0.0000</td>\n",
       "      <td>no</td>\n",
       "      <td>northwest</td>\n",
       "      <td>3866.8552</td>\n",
       "    </tr>\n",
       "    <tr>\n",
       "      <th>...</th>\n",
       "      <td>...</td>\n",
       "      <td>...</td>\n",
       "      <td>...</td>\n",
       "      <td>...</td>\n",
       "      <td>...</td>\n",
       "      <td>...</td>\n",
       "      <td>...</td>\n",
       "    </tr>\n",
       "    <tr>\n",
       "      <th>1333</th>\n",
       "      <td>50</td>\n",
       "      <td>male</td>\n",
       "      <td>30.9700</td>\n",
       "      <td>3.0000</td>\n",
       "      <td>no</td>\n",
       "      <td>northwest</td>\n",
       "      <td>10600.5483</td>\n",
       "    </tr>\n",
       "    <tr>\n",
       "      <th>1334</th>\n",
       "      <td>18</td>\n",
       "      <td>female</td>\n",
       "      <td>31.9200</td>\n",
       "      <td>0.0000</td>\n",
       "      <td>no</td>\n",
       "      <td>northeast</td>\n",
       "      <td>2205.9808</td>\n",
       "    </tr>\n",
       "    <tr>\n",
       "      <th>1335</th>\n",
       "      <td>18</td>\n",
       "      <td>female</td>\n",
       "      <td>36.8500</td>\n",
       "      <td>0.0000</td>\n",
       "      <td>no</td>\n",
       "      <td>southeast</td>\n",
       "      <td>1629.8335</td>\n",
       "    </tr>\n",
       "    <tr>\n",
       "      <th>1336</th>\n",
       "      <td>21</td>\n",
       "      <td>female</td>\n",
       "      <td>25.8000</td>\n",
       "      <td>0.0000</td>\n",
       "      <td>no</td>\n",
       "      <td>southwest</td>\n",
       "      <td>2007.9450</td>\n",
       "    </tr>\n",
       "    <tr>\n",
       "      <th>1337</th>\n",
       "      <td>61</td>\n",
       "      <td>female</td>\n",
       "      <td>29.0700</td>\n",
       "      <td>0.0000</td>\n",
       "      <td>yes</td>\n",
       "      <td>northwest</td>\n",
       "      <td>29141.3603</td>\n",
       "    </tr>\n",
       "  </tbody>\n",
       "</table>\n",
       "<p>1338 rows × 7 columns</p>\n",
       "</div>"
      ],
      "text/plain": [
       "      age     sex     bmi  children smoker     region    charges\n",
       "0      19  female 27.9000    0.0000    yes  southwest 16884.9240\n",
       "1      18    male 33.7700    1.0000     no  southeast  1725.5523\n",
       "2      28    male 33.0000    3.0000     no  southeast  4449.4620\n",
       "3      33    male 22.7050    0.0000     no  northwest 21984.4706\n",
       "4      32    male 28.8800    0.0000     no  northwest  3866.8552\n",
       "...   ...     ...     ...       ...    ...        ...        ...\n",
       "1333   50    male 30.9700    3.0000     no  northwest 10600.5483\n",
       "1334   18  female 31.9200    0.0000     no  northeast  2205.9808\n",
       "1335   18  female 36.8500    0.0000     no  southeast  1629.8335\n",
       "1336   21  female 25.8000    0.0000     no  southwest  2007.9450\n",
       "1337   61  female 29.0700    0.0000    yes  northwest 29141.3603\n",
       "\n",
       "[1338 rows x 7 columns]"
      ]
     },
     "execution_count": 18,
     "metadata": {},
     "output_type": "execute_result"
    }
   ],
   "source": [
    "insurance_dataset"
   ]
  },
  {
   "cell_type": "code",
   "execution_count": 19,
   "metadata": {},
   "outputs": [
    {
     "name": "stdout",
     "output_type": "stream",
     "text": [
      "             age   sex       bmi  children smoker     region      charges\n",
      "count  1338.0000  1338 1338.0000 1338.0000   1338       1338    1338.0000\n",
      "unique       NaN     2       NaN       NaN      2          7          NaN\n",
      "top          NaN  male       NaN       NaN     no  southeast          NaN\n",
      "freq         NaN   676       NaN       NaN   1064        361          NaN\n",
      "mean     39.1898   NaN   30.6693    1.0882    NaN        NaN   21113.4716\n",
      "std      14.0361   NaN    6.0904    1.2112    NaN        NaN  208318.4233\n",
      "min      18.0000   NaN   15.9600   -4.0000    NaN        NaN    1121.8739\n",
      "25%      27.0000   NaN   26.3150    0.0000    NaN        NaN    4740.2872\n",
      "50%      39.0000   NaN   30.4000    1.0000    NaN        NaN    9382.0330\n",
      "75%      51.0000   NaN   34.6938    2.0000    NaN        NaN   16639.9125\n",
      "max      64.0000   NaN   53.1300    5.0000    NaN        NaN 6300770.4280\n",
      "\n",
      "age         0\n",
      "sex         0\n",
      "bmi         0\n",
      "children    0\n",
      "smoker      0\n",
      "region      0\n",
      "charges     0\n",
      "dtype: int64\n"
     ]
    }
   ],
   "source": [
    "print(insurance_dataset.describe(include='all'))\n",
    "print()\n",
    "# checking for missing values\n",
    "print(insurance_dataset.isnull().sum())"
   ]
  },
  {
   "cell_type": "code",
   "execution_count": 20,
   "metadata": {},
   "outputs": [
    {
     "name": "stdout",
     "output_type": "stream",
     "text": [
      "\n",
      "Các hàng chứa số âm hoặc số thực trong cột 'children':\n",
      "     age     sex     bmi  children smoker     region   charges\n",
      "884   25    male 26.6950   -4.0000     no  northwest 4877.9811\n",
      "990   26  female 19.8000    0.0221     no  southwest 3378.9100\n"
     ]
    }
   ],
   "source": [
    "def check_value(x):\n",
    "    try:\n",
    "        # Chuyển giá trị thành float\n",
    "        value = float(x)\n",
    "        # Kiểm tra nếu giá trị là số âm hoặc là số thực\n",
    "        return value < 0 or (value % 1 != 0)  # value % 1 != 0 kiểm tra số thực\n",
    "    except ValueError:\n",
    "        return False\n",
    "\n",
    "filtered_values = insurance_dataset[insurance_dataset['children'].apply(check_value)]\n",
    "print(\"\\nCác hàng chứa số âm hoặc số thực trong cột 'children':\")\n",
    "print(filtered_values)"
   ]
  },
  {
   "cell_type": "code",
   "execution_count": 21,
   "metadata": {},
   "outputs": [
    {
     "name": "stdout",
     "output_type": "stream",
     "text": [
      "\n",
      "Dữ liệu sau khi xử lý:\n",
      "      age     sex     bmi  children smoker     region    charges\n",
      "0      19  female 27.9000         0    yes  southwest 16884.9240\n",
      "1      18    male 33.7700         1     no  southeast  1725.5523\n",
      "2      28    male 33.0000         3     no  southeast  4449.4620\n",
      "3      33    male 22.7050         0     no  northwest 21984.4706\n",
      "4      32    male 28.8800         0     no  northwest  3866.8552\n",
      "...   ...     ...     ...       ...    ...        ...        ...\n",
      "1333   50    male 30.9700         3     no  northwest 10600.5483\n",
      "1334   18  female 31.9200         0     no  northeast  2205.9808\n",
      "1335   18  female 36.8500         0     no  southeast  1629.8335\n",
      "1336   21  female 25.8000         0     no  southwest  2007.9450\n",
      "1337   61  female 29.0700         0    yes  northwest 29141.3603\n",
      "\n",
      "[1338 rows x 7 columns]\n"
     ]
    }
   ],
   "source": [
    "# Hàm kiểm tra và chuyển đổi giá trị cột 'children'\n",
    "def validate_and_correct_children(children):\n",
    "    try:\n",
    "        children = float(children)\n",
    "        if children <= 0:\n",
    "            children = abs(children)\n",
    "        return int(children)\n",
    "    except ValueError:\n",
    "        return 0\n",
    "# Áp dụng hàm trên cột 'children'\n",
    "insurance_dataset['children'] = insurance_dataset['children'].apply(validate_and_correct_children)\n",
    "\n",
    "print(\"\\nDữ liệu sau khi xử lý:\")\n",
    "print(insurance_dataset)\n"
   ]
  },
  {
   "cell_type": "code",
   "execution_count": 22,
   "metadata": {},
   "outputs": [
    {
     "name": "stdout",
     "output_type": "stream",
     "text": [
      "             age   sex       bmi  children smoker     region      charges\n",
      "count  1338.0000  1338 1338.0000 1338.0000   1338       1338    1338.0000\n",
      "unique       NaN     2       NaN       NaN      2          7          NaN\n",
      "top          NaN  male       NaN       NaN     no  southeast          NaN\n",
      "freq         NaN   676       NaN       NaN   1064        361          NaN\n",
      "mean     39.1898   NaN   30.6693    1.0942    NaN        NaN   21113.4716\n",
      "std      14.0361   NaN    6.0904    1.2059    NaN        NaN  208318.4233\n",
      "min      18.0000   NaN   15.9600    0.0000    NaN        NaN    1121.8739\n",
      "25%      27.0000   NaN   26.3150    0.0000    NaN        NaN    4740.2872\n",
      "50%      39.0000   NaN   30.4000    1.0000    NaN        NaN    9382.0330\n",
      "75%      51.0000   NaN   34.6938    2.0000    NaN        NaN   16639.9125\n",
      "max      64.0000   NaN   53.1300    5.0000    NaN        NaN 6300770.4280\n",
      "age         0\n",
      "sex         0\n",
      "bmi         0\n",
      "children    0\n",
      "smoker      0\n",
      "region      0\n",
      "charges     0\n",
      "dtype: int64\n"
     ]
    }
   ],
   "source": [
    "print(insurance_dataset.describe(include='all'))\n",
    "# checking for missing values\n",
    "print(insurance_dataset.isnull().sum())\n"
   ]
  },
  {
   "cell_type": "code",
   "execution_count": 23,
   "metadata": {},
   "outputs": [
    {
     "data": {
      "text/html": [
       "<div>\n",
       "<style scoped>\n",
       "    .dataframe tbody tr th:only-of-type {\n",
       "        vertical-align: middle;\n",
       "    }\n",
       "\n",
       "    .dataframe tbody tr th {\n",
       "        vertical-align: top;\n",
       "    }\n",
       "\n",
       "    .dataframe thead th {\n",
       "        text-align: right;\n",
       "    }\n",
       "</style>\n",
       "<table border=\"1\" class=\"dataframe\">\n",
       "  <thead>\n",
       "    <tr style=\"text-align: right;\">\n",
       "      <th></th>\n",
       "      <th>age</th>\n",
       "      <th>sex</th>\n",
       "      <th>bmi</th>\n",
       "      <th>children</th>\n",
       "      <th>smoker</th>\n",
       "      <th>region</th>\n",
       "      <th>charges</th>\n",
       "    </tr>\n",
       "  </thead>\n",
       "  <tbody>\n",
       "    <tr>\n",
       "      <th>0</th>\n",
       "      <td>19</td>\n",
       "      <td>female</td>\n",
       "      <td>27.9000</td>\n",
       "      <td>0</td>\n",
       "      <td>yes</td>\n",
       "      <td>southwest</td>\n",
       "      <td>16884.9240</td>\n",
       "    </tr>\n",
       "    <tr>\n",
       "      <th>1</th>\n",
       "      <td>18</td>\n",
       "      <td>male</td>\n",
       "      <td>33.7700</td>\n",
       "      <td>1</td>\n",
       "      <td>no</td>\n",
       "      <td>southeast</td>\n",
       "      <td>1725.5523</td>\n",
       "    </tr>\n",
       "    <tr>\n",
       "      <th>2</th>\n",
       "      <td>28</td>\n",
       "      <td>male</td>\n",
       "      <td>33.0000</td>\n",
       "      <td>3</td>\n",
       "      <td>no</td>\n",
       "      <td>southeast</td>\n",
       "      <td>4449.4620</td>\n",
       "    </tr>\n",
       "    <tr>\n",
       "      <th>3</th>\n",
       "      <td>33</td>\n",
       "      <td>male</td>\n",
       "      <td>22.7050</td>\n",
       "      <td>0</td>\n",
       "      <td>no</td>\n",
       "      <td>northwest</td>\n",
       "      <td>21984.4706</td>\n",
       "    </tr>\n",
       "    <tr>\n",
       "      <th>4</th>\n",
       "      <td>32</td>\n",
       "      <td>male</td>\n",
       "      <td>28.8800</td>\n",
       "      <td>0</td>\n",
       "      <td>no</td>\n",
       "      <td>northwest</td>\n",
       "      <td>3866.8552</td>\n",
       "    </tr>\n",
       "    <tr>\n",
       "      <th>...</th>\n",
       "      <td>...</td>\n",
       "      <td>...</td>\n",
       "      <td>...</td>\n",
       "      <td>...</td>\n",
       "      <td>...</td>\n",
       "      <td>...</td>\n",
       "      <td>...</td>\n",
       "    </tr>\n",
       "    <tr>\n",
       "      <th>1333</th>\n",
       "      <td>50</td>\n",
       "      <td>male</td>\n",
       "      <td>30.9700</td>\n",
       "      <td>3</td>\n",
       "      <td>no</td>\n",
       "      <td>northwest</td>\n",
       "      <td>10600.5483</td>\n",
       "    </tr>\n",
       "    <tr>\n",
       "      <th>1334</th>\n",
       "      <td>18</td>\n",
       "      <td>female</td>\n",
       "      <td>31.9200</td>\n",
       "      <td>0</td>\n",
       "      <td>no</td>\n",
       "      <td>northeast</td>\n",
       "      <td>2205.9808</td>\n",
       "    </tr>\n",
       "    <tr>\n",
       "      <th>1335</th>\n",
       "      <td>18</td>\n",
       "      <td>female</td>\n",
       "      <td>36.8500</td>\n",
       "      <td>0</td>\n",
       "      <td>no</td>\n",
       "      <td>southeast</td>\n",
       "      <td>1629.8335</td>\n",
       "    </tr>\n",
       "    <tr>\n",
       "      <th>1336</th>\n",
       "      <td>21</td>\n",
       "      <td>female</td>\n",
       "      <td>25.8000</td>\n",
       "      <td>0</td>\n",
       "      <td>no</td>\n",
       "      <td>southwest</td>\n",
       "      <td>2007.9450</td>\n",
       "    </tr>\n",
       "    <tr>\n",
       "      <th>1337</th>\n",
       "      <td>61</td>\n",
       "      <td>female</td>\n",
       "      <td>29.0700</td>\n",
       "      <td>0</td>\n",
       "      <td>yes</td>\n",
       "      <td>northwest</td>\n",
       "      <td>29141.3603</td>\n",
       "    </tr>\n",
       "  </tbody>\n",
       "</table>\n",
       "<p>1338 rows × 7 columns</p>\n",
       "</div>"
      ],
      "text/plain": [
       "      age     sex     bmi  children smoker     region    charges\n",
       "0      19  female 27.9000         0    yes  southwest 16884.9240\n",
       "1      18    male 33.7700         1     no  southeast  1725.5523\n",
       "2      28    male 33.0000         3     no  southeast  4449.4620\n",
       "3      33    male 22.7050         0     no  northwest 21984.4706\n",
       "4      32    male 28.8800         0     no  northwest  3866.8552\n",
       "...   ...     ...     ...       ...    ...        ...        ...\n",
       "1333   50    male 30.9700         3     no  northwest 10600.5483\n",
       "1334   18  female 31.9200         0     no  northeast  2205.9808\n",
       "1335   18  female 36.8500         0     no  southeast  1629.8335\n",
       "1336   21  female 25.8000         0     no  southwest  2007.9450\n",
       "1337   61  female 29.0700         0    yes  northwest 29141.3603\n",
       "\n",
       "[1338 rows x 7 columns]"
      ]
     },
     "execution_count": 23,
     "metadata": {},
     "output_type": "execute_result"
    }
   ],
   "source": [
    "insurance_dataset"
   ]
  },
  {
   "cell_type": "code",
   "execution_count": 24,
   "metadata": {},
   "outputs": [
    {
     "name": "stdout",
     "output_type": "stream",
     "text": [
      "Các giá trị độc nhất trong cột 'region':\n",
      "['southwest' 'southeast' 'northwest' 'northeast' 'ABCD' 'southast' '??']\n"
     ]
    }
   ],
   "source": [
    "# Kiểm tra các giá trị độc nhất trong cột 'region'\n",
    "unique_regions = insurance_dataset['region'].unique()\n",
    "\n",
    "print(\"Các giá trị độc nhất trong cột 'region':\")\n",
    "print(unique_regions)"
   ]
  },
  {
   "cell_type": "code",
   "execution_count": 25,
   "metadata": {},
   "outputs": [
    {
     "name": "stdout",
     "output_type": "stream",
     "text": [
      "Các giá trị không hợp lệ trong cột 'region':\n",
      "     age     sex     bmi  children smoker    region   charges\n",
      "285   46    male 26.6200         1     no      ABCD 7742.1098\n",
      "359   18  female 20.7900         0     no  southast 1607.5101\n",
      "415   43  female 35.6400         1     no        ?? 7345.7266\n"
     ]
    }
   ],
   "source": [
    "# Danh sách các giá trị hợp lệ trong cột 'region'\n",
    "valid_regions = ['southwest', 'southeast', 'northwest', 'northeast']\n",
    "\n",
    "# Kiểm tra các giá trị không hợp lệ trong cột 'region'\n",
    "invalid_regions = insurance_dataset[~insurance_dataset['region'].isin(valid_regions)]\n",
    "\n",
    "print(\"Các giá trị không hợp lệ trong cột 'region':\")\n",
    "print(invalid_regions)"
   ]
  },
  {
   "cell_type": "code",
   "execution_count": 26,
   "metadata": {},
   "outputs": [],
   "source": [
    "# Thay thế các giá trị không hợp lệ bằng giá trị hợp lệ ngẫu nhiên\n",
    "insurance_dataset['region'] = insurance_dataset['region'].apply(\n",
    "    lambda x: x if x in valid_regions else np.random.choice(valid_regions)\n",
    ")\n",
    "\n",
    "# # Thay thế các giá trị không hợp lệ bằng giá trị phổ biến nhất\n",
    "# most_common_region = insurance_dataset['region'].mode()[0]\n",
    "\n",
    "# insurance_dataset['region'] = insurance_dataset['region'].apply(\n",
    "#     lambda x: x if x in valid_regions else most_common_region\n",
    "# )"
   ]
  },
  {
   "cell_type": "code",
   "execution_count": 27,
   "metadata": {},
   "outputs": [
    {
     "name": "stdout",
     "output_type": "stream",
     "text": [
      "             age   sex       bmi  children smoker     region      charges\n",
      "count  1338.0000  1338 1338.0000 1338.0000   1338       1338    1338.0000\n",
      "unique       NaN     2       NaN       NaN      2          4          NaN\n",
      "top          NaN  male       NaN       NaN     no  southeast          NaN\n",
      "freq         NaN   676       NaN       NaN   1064        363          NaN\n",
      "mean     39.1898   NaN   30.6693    1.0942    NaN        NaN   21113.4716\n",
      "std      14.0361   NaN    6.0904    1.2059    NaN        NaN  208318.4233\n",
      "min      18.0000   NaN   15.9600    0.0000    NaN        NaN    1121.8739\n",
      "25%      27.0000   NaN   26.3150    0.0000    NaN        NaN    4740.2872\n",
      "50%      39.0000   NaN   30.4000    1.0000    NaN        NaN    9382.0330\n",
      "75%      51.0000   NaN   34.6938    2.0000    NaN        NaN   16639.9125\n",
      "max      64.0000   NaN   53.1300    5.0000    NaN        NaN 6300770.4280\n",
      "age         0\n",
      "sex         0\n",
      "bmi         0\n",
      "children    0\n",
      "smoker      0\n",
      "region      0\n",
      "charges     0\n",
      "dtype: int64\n"
     ]
    }
   ],
   "source": [
    "print(insurance_dataset.describe(include='all'))\n",
    "# checking for missing values\n",
    "print(insurance_dataset.isnull().sum())\n"
   ]
  },
  {
   "cell_type": "code",
   "execution_count": 28,
   "metadata": {},
   "outputs": [
    {
     "name": "stdout",
     "output_type": "stream",
     "text": [
      "Các giá trị ngoại lệ trong cột 'charges':\n",
      "      age     sex     bmi  children smoker     region    charges\n",
      "14     27    male 42.1300         0    yes  southeast 39611.7577\n",
      "19     30    male 35.3000         0    yes  southwest 36837.4670\n",
      "23     34  female 31.9200         1    yes  northeast 37701.8768\n",
      "29     31    male 36.3000         2    yes  southwest 38711.0000\n",
      "30     22    male 35.6000         0    yes  southwest 35585.5760\n",
      "...   ...     ...     ...       ...    ...        ...        ...\n",
      "1300   45    male 30.3600         0    yes  southeast 62592.8731\n",
      "1301   62    male 30.8750         3    yes  northwest 46718.1632\n",
      "1303   43    male 27.8000         0    yes  southwest 37829.7242\n",
      "1313   19  female 34.7000         2    yes  southwest 36397.5760\n",
      "1323   42  female 40.3700         2    yes  southeast 43896.3763\n",
      "\n",
      "[139 rows x 7 columns]\n"
     ]
    }
   ],
   "source": [
    "# Tính toán Q1 (25th percentile) và Q3 (75th percentile)\n",
    "Q1 = insurance_dataset['charges'].quantile(0.25)\n",
    "Q3 = insurance_dataset['charges'].quantile(0.75)\n",
    "\n",
    "# Tính toán IQR\n",
    "IQR = Q3 - Q1\n",
    "\n",
    "# Xác định ngưỡng cho giá trị ngoại lệ\n",
    "lower_bound = Q1 - 1.5 * IQR\n",
    "upper_bound = Q3 + 1.5 * IQR\n",
    "\n",
    "# Tìm các giá trị ngoại lệ\n",
    "outliers = insurance_dataset[(insurance_dataset['charges'] < lower_bound) | (insurance_dataset['charges'] > upper_bound)]\n",
    "\n",
    "print(\"Các giá trị ngoại lệ trong cột 'charges':\")\n",
    "print(outliers)"
   ]
  },
  {
   "cell_type": "code",
   "execution_count": 29,
   "metadata": {},
   "outputs": [
    {
     "data": {
      "image/png": "[encoded data removed]",
      "text/plain": [
       "<Figure size 1000x500 with 1 Axes>"
      ]
     },
     "metadata": {},
     "output_type": "display_data"
    }
   ],
   "source": [
    "# Vẽ biểu đồ nến (box plot)\n",
    "plt.figure(figsize=(10, 5))\n",
    "sns.boxplot(x=insurance_dataset['charges'])\n",
    "plt.title('Box Plot of Charges')\n",
    "plt.show()"
   ]
  },
  {
   "cell_type": "code",
   "execution_count": 30,
   "metadata": {},
   "outputs": [
    {
     "data": {
      "image/png": "[encoded data removed]",
      "text/plain": [
       "<Figure size 1000x1000 with 1 Axes>"
      ]
     },
     "metadata": {},
     "output_type": "display_data"
    }
   ],
   "source": [
    "\n",
    "# Vẽ biểu đồ phân tán (scatter plot)\n",
    "plt.figure(figsize=(10, 10))\n",
    "plt.scatter(insurance_dataset.index, insurance_dataset['charges'])\n",
    "plt.title('Scatter Plot of Charges')\n",
    "plt.xlabel('Index')\n",
    "plt.ylabel('Charges')\n",
    "plt.show()"
   ]
  },
  {
   "cell_type": "code",
   "execution_count": 31,
   "metadata": {},
   "outputs": [
    {
     "name": "stdout",
     "output_type": "stream",
     "text": [
      "Các giá trị nằm ngoài trước khi thay thế:\n",
      "     age     sex     bmi  children smoker     region      charges\n",
      "543   54  female 47.4100         0    yes  southeast 6300770.4280\n",
      "742   53    male 34.1050         0    yes  northeast 4300254.4179\n",
      "Các giá trị nằm ngoài sau khi thay thế:\n",
      "Empty DataFrame\n",
      "Columns: [age, sex, bmi, children, smoker, region, charges]\n",
      "Index: []\n"
     ]
    }
   ],
   "source": [
    "# Xác định các giá trị nằm ngoài (ví dụ: > 70000)\n",
    "outliers = insurance_dataset[insurance_dataset['charges'] > 70000]\n",
    "\n",
    "# In ra các giá trị nằm ngoài để kiểm tra\n",
    "print(\"Các giá trị nằm ngoài trước khi thay thế:\")\n",
    "print(outliers)\n",
    "\n",
    "# Thay thế các giá trị nằm ngoài bằng giá trị trung bình (hoặc giá trị khác phù hợp)\n",
    "mean_charge = insurance_dataset[insurance_dataset['charges'] <= 70000]['charges'].median()\n",
    "insurance_dataset.loc[insurance_dataset['charges'] > 70000, 'charges'] = mean_charge\n",
    "\n",
    "# Kiểm tra lại các giá trị nằm ngoài sau khi thay thế\n",
    "outliers_after = insurance_dataset[insurance_dataset['charges'] > 70000]\n",
    "print(\"Các giá trị nằm ngoài sau khi thay thế:\")\n",
    "print(outliers_after)"
   ]
  },
  {
   "cell_type": "code",
   "execution_count": 32,
   "metadata": {},
   "outputs": [
    {
     "data": {
      "image/png": "[encoded data removed]",
      "text/plain": [
       "<Figure size 1000x1000 with 1 Axes>"
      ]
     },
     "metadata": {},
     "output_type": "display_data"
    }
   ],
   "source": [
    "# Vẽ lại biểu đồ phân tán sau khi thay thế\n",
    "plt.figure(figsize=(10, 10))\n",
    "plt.scatter(insurance_dataset.index, insurance_dataset['charges'])\n",
    "plt.title('Scatter Plot of Charges (After Outlier Replacement)')\n",
    "plt.xlabel('Index')\n",
    "plt.ylabel('Charges')\n",
    "plt.show()\n"
   ]
  },
  {
   "cell_type": "code",
   "execution_count": 33,
   "metadata": {},
   "outputs": [
    {
     "data": {
      "text/plain": [
       "<Figure size 600x600 with 0 Axes>"
      ]
     },
     "metadata": {},
     "output_type": "display_data"
    },
    {
     "data": {
      "image/png": "[encoded data removed]",
      "text/plain": [
       "<Figure size 500x500 with 1 Axes>"
      ]
     },
     "metadata": {},
     "output_type": "display_data"
    }
   ],
   "source": [
    "# distribution of age value\n",
    "sns.set()\n",
    "plt.figure(figsize=(6,6))\n",
    "sns.displot(insurance_dataset['age'])\n",
    "plt.title('Age Distribution')\n",
    "plt.show()"
   ]
  },
  {
   "cell_type": "code",
   "execution_count": 34,
   "metadata": {},
   "outputs": [
    {
     "data": {
      "image/png": "[encoded data removed]",
      "text/plain": [
       "<Figure size 600x600 with 1 Axes>"
      ]
     },
     "metadata": {},
     "output_type": "display_data"
    }
   ],
   "source": [
    "# Gender column\n",
    "plt.figure(figsize=(6,6))\n",
    "sns.countplot(x='sex', data=insurance_dataset)\n",
    "plt.title('Sex Distribution')\n",
    "plt.show()"
   ]
  },
  {
   "cell_type": "code",
   "execution_count": 35,
   "metadata": {},
   "outputs": [
    {
     "data": {
      "text/plain": [
       "sex\n",
       "male      676\n",
       "female    662\n",
       "Name: count, dtype: int64"
      ]
     },
     "execution_count": 35,
     "metadata": {},
     "output_type": "execute_result"
    }
   ],
   "source": [
    "insurance_dataset['sex'].value_counts()"
   ]
  },
  {
   "cell_type": "code",
   "execution_count": 36,
   "metadata": {},
   "outputs": [
    {
     "data": {
      "text/plain": [
       "<Figure size 600x600 with 0 Axes>"
      ]
     },
     "metadata": {},
     "output_type": "display_data"
    },
    {
     "data": {
      "image/png": "[encoded data removed]",
      "text/plain": [
       "<Figure size 500x500 with 1 Axes>"
      ]
     },
     "metadata": {},
     "output_type": "display_data"
    }
   ],
   "source": [
    "# bmi distribution\n",
    "plt.figure(figsize=(6,6))\n",
    "sns.displot(insurance_dataset['bmi'])\n",
    "plt.title('BMI Distribution')\n",
    "plt.show()"
   ]
  },
  {
   "cell_type": "code",
   "execution_count": 37,
   "metadata": {},
   "outputs": [
    {
     "data": {
      "image/png": "[encoded data removed]",
      "text/plain": [
       "<Figure size 600x600 with 1 Axes>"
      ]
     },
     "metadata": {},
     "output_type": "display_data"
    }
   ],
   "source": [
    "# children column\n",
    "plt.figure(figsize=(6,6))\n",
    "sns.countplot(x='children', data=insurance_dataset)\n",
    "plt.title('Children')\n",
    "plt.show()"
   ]
  },
  {
   "cell_type": "code",
   "execution_count": 38,
   "metadata": {},
   "outputs": [
    {
     "data": {
      "text/plain": [
       "children\n",
       "0    575\n",
       "1    323\n",
       "2    240\n",
       "3    157\n",
       "4     25\n",
       "5     18\n",
       "Name: count, dtype: int64"
      ]
     },
     "execution_count": 38,
     "metadata": {},
     "output_type": "execute_result"
    }
   ],
   "source": [
    "insurance_dataset['children'].value_counts()"
   ]
  },
  {
   "cell_type": "code",
   "execution_count": 39,
   "metadata": {},
   "outputs": [
    {
     "data": {
      "image/png": "[encoded data removed]",
      "text/plain": [
       "<Figure size 600x600 with 1 Axes>"
      ]
     },
     "metadata": {},
     "output_type": "display_data"
    }
   ],
   "source": [
    "# smoker column\n",
    "plt.figure(figsize=(6,6))\n",
    "sns.countplot(x='smoker', data=insurance_dataset)\n",
    "plt.title('smoker')\n",
    "plt.show()"
   ]
  },
  {
   "cell_type": "code",
   "execution_count": 40,
   "metadata": {},
   "outputs": [
    {
     "data": {
      "text/plain": [
       "smoker\n",
       "no     1064\n",
       "yes     274\n",
       "Name: count, dtype: int64"
      ]
     },
     "execution_count": 40,
     "metadata": {},
     "output_type": "execute_result"
    }
   ],
   "source": [
    "insurance_dataset['smoker'].value_counts()"
   ]
  },
  {
   "cell_type": "code",
   "execution_count": 41,
   "metadata": {},
   "outputs": [
    {
     "data": {
      "image/png": "[encoded data removed]",
      "text/plain": [
       "<Figure size 600x600 with 1 Axes>"
      ]
     },
     "metadata": {},
     "output_type": "display_data"
    }
   ],
   "source": [
    "# region column\n",
    "plt.figure(figsize=(6,6))\n",
    "sns.countplot(x='region', data=insurance_dataset)\n",
    "plt.title('region')\n",
    "plt.show()"
   ]
  },
  {
   "cell_type": "code",
   "execution_count": 42,
   "metadata": {},
   "outputs": [
    {
     "data": {
      "text/plain": [
       "region\n",
       "southeast    363\n",
       "northwest    326\n",
       "southwest    325\n",
       "northeast    324\n",
       "Name: count, dtype: int64"
      ]
     },
     "execution_count": 42,
     "metadata": {},
     "output_type": "execute_result"
    }
   ],
   "source": [
    "insurance_dataset['region'].value_counts()"
   ]
  },
  {
   "cell_type": "code",
   "execution_count": 43,
   "metadata": {},
   "outputs": [
    {
     "data": {
      "text/plain": [
       "<Figure size 600x600 with 0 Axes>"
      ]
     },
     "metadata": {},
     "output_type": "display_data"
    },
    {
     "data": {
      "image/png": "[encoded data removed]",
      "text/plain": [
       "<Figure size 500x500 with 1 Axes>"
      ]
     },
     "metadata": {},
     "output_type": "display_data"
    }
   ],
   "source": [
    "# distribution of charges value\n",
    "plt.figure(figsize=(6,6))\n",
    "sns.displot(insurance_dataset['charges'])\n",
    "plt.title('Charges Distribution')\n",
    "plt.show()"
   ]
  },
  {
   "cell_type": "code",
   "execution_count": 44,
   "metadata": {},
   "outputs": [],
   "source": [
    "# Mã hóa cột 'sex'\n",
    "insurance_dataset['sex'] = insurance_dataset['sex'].map({'male': 1, 'female': 0})\n",
    "\n",
    "# Mã hóa cột 'smoker'\n",
    "insurance_dataset['smoker'] = insurance_dataset['smoker'].map({'yes': 1, 'no': 0})\n",
    "\n",
    "# Mã hóa cột 'region'\n",
    "insurance_dataset['region'] = insurance_dataset['region'].map({'southeast': 0, 'southwest': 1, 'northeast': 2, 'northwest': 3})"
   ]
  },
  {
   "cell_type": "code",
   "execution_count": 45,
   "metadata": {},
   "outputs": [],
   "source": [
    "X = insurance_dataset.drop(columns='charges', axis=1)\n",
    "Y = insurance_dataset['charges']"
   ]
  },
  {
   "cell_type": "code",
   "execution_count": 46,
   "metadata": {},
   "outputs": [
    {
     "name": "stdout",
     "output_type": "stream",
     "text": [
      "      age  sex     bmi  children  smoker  region\n",
      "0      19    0 27.9000         0       1       1\n",
      "1      18    1 33.7700         1       0       0\n",
      "2      28    1 33.0000         3       0       0\n",
      "3      33    1 22.7050         0       0       3\n",
      "4      32    1 28.8800         0       0       3\n",
      "...   ...  ...     ...       ...     ...     ...\n",
      "1333   50    1 30.9700         3       0       3\n",
      "1334   18    0 31.9200         0       0       2\n",
      "1335   18    0 36.8500         0       0       0\n",
      "1336   21    0 25.8000         0       0       1\n",
      "1337   61    0 29.0700         0       1       3\n",
      "\n",
      "[1338 rows x 6 columns]\n"
     ]
    }
   ],
   "source": [
    "print(X)"
   ]
  },
  {
   "cell_type": "code",
   "execution_count": 47,
   "metadata": {},
   "outputs": [
    {
     "name": "stdout",
     "output_type": "stream",
     "text": [
      "0      16884.9240\n",
      "1       1725.5523\n",
      "2       4449.4620\n",
      "3      21984.4706\n",
      "4       3866.8552\n",
      "          ...    \n",
      "1333   10600.5483\n",
      "1334    2205.9808\n",
      "1335    1629.8335\n",
      "1336    2007.9450\n",
      "1337   29141.3603\n",
      "Name: charges, Length: 1338, dtype: float64\n"
     ]
    }
   ],
   "source": [
    "print(Y)"
   ]
  },
  {
   "cell_type": "code",
   "execution_count": 48,
   "metadata": {},
   "outputs": [],
   "source": [
    "X_train, X_test, Y_train, Y_test = train_test_split(X, Y, test_size=0.2, random_state=2)"
   ]
  },
  {
   "cell_type": "code",
   "execution_count": 49,
   "metadata": {},
   "outputs": [
    {
     "name": "stdout",
     "output_type": "stream",
     "text": [
      "(1338, 6) (1070, 6) (268, 6)\n"
     ]
    }
   ],
   "source": [
    "print(X.shape, X_train.shape, X_test.shape)"
   ]
  },
  {
   "cell_type": "code",
   "execution_count": 50,
   "metadata": {},
   "outputs": [],
   "source": [
    "# khởi tạo model Linear Regression\n",
    "regressor = LinearRegression()"
   ]
  },
  {
   "cell_type": "code",
   "execution_count": 51,
   "metadata": {},
   "outputs": [
    {
     "data": {
      "text/html": [
       "<style>#sk-container-id-1 {\n",
       "  /* Definition of color scheme common for light and dark mode */\n",
       "  --sklearn-color-text: black;\n",
       "  --sklearn-color-line: gray;\n",
       "  /* Definition of color scheme for unfitted estimators */\n",
       "  --sklearn-color-unfitted-level-0: #fff5e6;\n",
       "  --sklearn-color-unfitted-level-1: #f6e4d2;\n",
       "  --sklearn-color-unfitted-level-2: #ffe0b3;\n",
       "  --sklearn-color-unfitted-level-3: chocolate;\n",
       "  /* Definition of color scheme for fitted estimators */\n",
       "  --sklearn-color-fitted-level-0: #f0f8ff;\n",
       "  --sklearn-color-fitted-level-1: #d4ebff;\n",
       "  --sklearn-color-fitted-level-2: #b3dbfd;\n",
       "  --sklearn-color-fitted-level-3: cornflowerblue;\n",
       "\n",
       "  /* Specific color for light theme */\n",
       "  --sklearn-color-text-on-default-background: var(--sg-text-color, var(--theme-code-foreground, var(--jp-content-font-color1, black)));\n",
       "  --sklearn-color-background: var(--sg-background-color, var(--theme-background, var(--jp-layout-color0, white)));\n",
       "  --sklearn-color-border-box: var(--sg-text-color, var(--theme-code-foreground, var(--jp-content-font-color1, black)));\n",
       "  --sklearn-color-icon: #696969;\n",
       "\n",
       "  @media (prefers-color-scheme: dark) {\n",
       "    /* Redefinition of color scheme for dark theme */\n",
       "    --sklearn-color-text-on-default-background: var(--sg-text-color, var(--theme-code-foreground, var(--jp-content-font-color1, white)));\n",
       "    --sklearn-color-background: var(--sg-background-color, var(--theme-background, var(--jp-layout-color0, #111)));\n",
       "    --sklearn-color-border-box: var(--sg-text-color, var(--theme-code-foreground, var(--jp-content-font-color1, white)));\n",
       "    --sklearn-color-icon: #878787;\n",
       "  }\n",
       "}\n",
       "\n",
       "#sk-container-id-1 {\n",
       "  color: var(--sklearn-color-text);\n",
       "}\n",
       "\n",
       "#sk-container-id-1 pre {\n",
       "  padding: 0;\n",
       "}\n",
       "\n",
       "#sk-container-id-1 input.sk-hidden--visually {\n",
       "  border: 0;\n",
       "  clip: rect(1px 1px 1px 1px);\n",
       "  clip: rect(1px, 1px, 1px, 1px);\n",
       "  height: 1px;\n",
       "  margin: -1px;\n",
       "  overflow: hidden;\n",
       "  padding: 0;\n",
       "  position: absolute;\n",
       "  width: 1px;\n",
       "}\n",
       "\n",
       "#sk-container-id-1 div.sk-dashed-wrapped {\n",
       "  border: 1px dashed var(--sklearn-color-line);\n",
       "  margin: 0 0.4em 0.5em 0.4em;\n",
       "  box-sizing: border-box;\n",
       "  padding-bottom: 0.4em;\n",
       "  background-color: var(--sklearn-color-background);\n",
       "}\n",
       "\n",
       "#sk-container-id-1 div.sk-container {\n",
       "  /* jupyter's `normalize.less` sets `[hidden] { display: none; }`\n",
       "     but bootstrap.min.css set `[hidden] { display: none !important; }`\n",
       "     so we also need the `!important` here to be able to override the\n",
       "     default hidden behavior on the sphinx rendered scikit-learn.org.\n",
       "     See: https://github.com/scikit-learn/scikit-learn/issues/21755 */\n",
       "  display: inline-block !important;\n",
       "  position: relative;\n",
       "}\n",
       "\n",
       "#sk-container-id-1 div.sk-text-repr-fallback {\n",
       "  display: none;\n",
       "}\n",
       "\n",
       "div.sk-parallel-item,\n",
       "div.sk-serial,\n",
       "div.sk-item {\n",
       "  /* draw centered vertical line to link estimators */\n",
       "  background-image: linear-gradient(var(--sklearn-color-text-on-default-background), var(--sklearn-color-text-on-default-background));\n",
       "  background-size: 2px 100%;\n",
       "  background-repeat: no-repeat;\n",
       "  background-position: center center;\n",
       "}\n",
       "\n",
       "/* Parallel-specific style estimator block */\n",
       "\n",
       "#sk-container-id-1 div.sk-parallel-item::after {\n",
       "  content: \"\";\n",
       "  width: 100%;\n",
       "  border-bottom: 2px solid var(--sklearn-color-text-on-default-background);\n",
       "  flex-grow: 1;\n",
       "}\n",
       "\n",
       "#sk-container-id-1 div.sk-parallel {\n",
       "  display: flex;\n",
       "  align-items: stretch;\n",
       "  justify-content: center;\n",
       "  background-color: var(--sklearn-color-background);\n",
       "  position: relative;\n",
       "}\n",
       "\n",
       "#sk-container-id-1 div.sk-parallel-item {\n",
       "  display: flex;\n",
       "  flex-direction: column;\n",
       "}\n",
       "\n",
       "#sk-container-id-1 div.sk-parallel-item:first-child::after {\n",
       "  align-self: flex-end;\n",
       "  width: 50%;\n",
       "}\n",
       "\n",
       "#sk-container-id-1 div.sk-parallel-item:last-child::after {\n",
       "  align-self: flex-start;\n",
       "  width: 50%;\n",
       "}\n",
       "\n",
       "#sk-container-id-1 div.sk-parallel-item:only-child::after {\n",
       "  width: 0;\n",
       "}\n",
       "\n",
       "/* Serial-specific style estimator block */\n",
       "\n",
       "#sk-container-id-1 div.sk-serial {\n",
       "  display: flex;\n",
       "  flex-direction: column;\n",
       "  align-items: center;\n",
       "  background-color: var(--sklearn-color-background);\n",
       "  padding-right: 1em;\n",
       "  padding-left: 1em;\n",
       "}\n",
       "\n",
       "\n",
       "/* Toggleable style: style used for estimator/Pipeline/ColumnTransformer box that is\n",
       "clickable and can be expanded/collapsed.\n",
       "- Pipeline and ColumnTransformer use this feature and define the default style\n",
       "- Estimators will overwrite some part of the style using the `sk-estimator` class\n",
       "*/\n",
       "\n",
       "/* Pipeline and ColumnTransformer style (default) */\n",
       "\n",
       "#sk-container-id-1 div.sk-toggleable {\n",
       "  /* Default theme specific background. It is overwritten whether we have a\n",
       "  specific estimator or a Pipeline/ColumnTransformer */\n",
       "  background-color: var(--sklearn-color-background);\n",
       "}\n",
       "\n",
       "/* Toggleable label */\n",
       "#sk-container-id-1 label.sk-toggleable__label {\n",
       "  cursor: pointer;\n",
       "  display: block;\n",
       "  width: 100%;\n",
       "  margin-bottom: 0;\n",
       "  padding: 0.5em;\n",
       "  box-sizing: border-box;\n",
       "  text-align: center;\n",
       "}\n",
       "\n",
       "#sk-container-id-1 label.sk-toggleable__label-arrow:before {\n",
       "  /* Arrow on the left of the label */\n",
       "  content: \"▸\";\n",
       "  float: left;\n",
       "  margin-right: 0.25em;\n",
       "  color: var(--sklearn-color-icon);\n",
       "}\n",
       "\n",
       "#sk-container-id-1 label.sk-toggleable__label-arrow:hover:before {\n",
       "  color: var(--sklearn-color-text);\n",
       "}\n",
       "\n",
       "/* Toggleable content - dropdown */\n",
       "\n",
       "#sk-container-id-1 div.sk-toggleable__content {\n",
       "  max-height: 0;\n",
       "  max-width: 0;\n",
       "  overflow: hidden;\n",
       "  text-align: left;\n",
       "  /* unfitted */\n",
       "  background-color: var(--sklearn-color-unfitted-level-0);\n",
       "}\n",
       "\n",
       "#sk-container-id-1 div.sk-toggleable__content.fitted {\n",
       "  /* fitted */\n",
       "  background-color: var(--sklearn-color-fitted-level-0);\n",
       "}\n",
       "\n",
       "#sk-container-id-1 div.sk-toggleable__content pre {\n",
       "  margin: 0.2em;\n",
       "  border-radius: 0.25em;\n",
       "  color: var(--sklearn-color-text);\n",
       "  /* unfitted */\n",
       "  background-color: var(--sklearn-color-unfitted-level-0);\n",
       "}\n",
       "\n",
       "#sk-container-id-1 div.sk-toggleable__content.fitted pre {\n",
       "  /* unfitted */\n",
       "  background-color: var(--sklearn-color-fitted-level-0);\n",
       "}\n",
       "\n",
       "#sk-container-id-1 input.sk-toggleable__control:checked~div.sk-toggleable__content {\n",
       "  /* Expand drop-down */\n",
       "  max-height: 200px;\n",
       "  max-width: 100%;\n",
       "  overflow: auto;\n",
       "}\n",
       "\n",
       "#sk-container-id-1 input.sk-toggleable__control:checked~label.sk-toggleable__label-arrow:before {\n",
       "  content: \"▾\";\n",
       "}\n",
       "\n",
       "/* Pipeline/ColumnTransformer-specific style */\n",
       "\n",
       "#sk-container-id-1 div.sk-label input.sk-toggleable__control:checked~label.sk-toggleable__label {\n",
       "  color: var(--sklearn-color-text);\n",
       "  background-color: var(--sklearn-color-unfitted-level-2);\n",
       "}\n",
       "\n",
       "#sk-container-id-1 div.sk-label.fitted input.sk-toggleable__control:checked~label.sk-toggleable__label {\n",
       "  background-color: var(--sklearn-color-fitted-level-2);\n",
       "}\n",
       "\n",
       "/* Estimator-specific style */\n",
       "\n",
       "/* Colorize estimator box */\n",
       "#sk-container-id-1 div.sk-estimator input.sk-toggleable__control:checked~label.sk-toggleable__label {\n",
       "  /* unfitted */\n",
       "  background-color: var(--sklearn-color-unfitted-level-2);\n",
       "}\n",
       "\n",
       "#sk-container-id-1 div.sk-estimator.fitted input.sk-toggleable__control:checked~label.sk-toggleable__label {\n",
       "  /* fitted */\n",
       "  background-color: var(--sklearn-color-fitted-level-2);\n",
       "}\n",
       "\n",
       "#sk-container-id-1 div.sk-label label.sk-toggleable__label,\n",
       "#sk-container-id-1 div.sk-label label {\n",
       "  /* The background is the default theme color */\n",
       "  color: var(--sklearn-color-text-on-default-background);\n",
       "}\n",
       "\n",
       "/* On hover, darken the color of the background */\n",
       "#sk-container-id-1 div.sk-label:hover label.sk-toggleable__label {\n",
       "  color: var(--sklearn-color-text);\n",
       "  background-color: var(--sklearn-color-unfitted-level-2);\n",
       "}\n",
       "\n",
       "/* Label box, darken color on hover, fitted */\n",
       "#sk-container-id-1 div.sk-label.fitted:hover label.sk-toggleable__label.fitted {\n",
       "  color: var(--sklearn-color-text);\n",
       "  background-color: var(--sklearn-color-fitted-level-2);\n",
       "}\n",
       "\n",
       "/* Estimator label */\n",
       "\n",
       "#sk-container-id-1 div.sk-label label {\n",
       "  font-family: monospace;\n",
       "  font-weight: bold;\n",
       "  display: inline-block;\n",
       "  line-height: 1.2em;\n",
       "}\n",
       "\n",
       "#sk-container-id-1 div.sk-label-container {\n",
       "  text-align: center;\n",
       "}\n",
       "\n",
       "/* Estimator-specific */\n",
       "#sk-container-id-1 div.sk-estimator {\n",
       "  font-family: monospace;\n",
       "  border: 1px dotted var(--sklearn-color-border-box);\n",
       "  border-radius: 0.25em;\n",
       "  box-sizing: border-box;\n",
       "  margin-bottom: 0.5em;\n",
       "  /* unfitted */\n",
       "  background-color: var(--sklearn-color-unfitted-level-0);\n",
       "}\n",
       "\n",
       "#sk-container-id-1 div.sk-estimator.fitted {\n",
       "  /* fitted */\n",
       "  background-color: var(--sklearn-color-fitted-level-0);\n",
       "}\n",
       "\n",
       "/* on hover */\n",
       "#sk-container-id-1 div.sk-estimator:hover {\n",
       "  /* unfitted */\n",
       "  background-color: var(--sklearn-color-unfitted-level-2);\n",
       "}\n",
       "\n",
       "#sk-container-id-1 div.sk-estimator.fitted:hover {\n",
       "  /* fitted */\n",
       "  background-color: var(--sklearn-color-fitted-level-2);\n",
       "}\n",
       "\n",
       "/* Specification for estimator info (e.g. \"i\" and \"?\") */\n",
       "\n",
       "/* Common style for \"i\" and \"?\" */\n",
       "\n",
       ".sk-estimator-doc-link,\n",
       "a:link.sk-estimator-doc-link,\n",
       "a:visited.sk-estimator-doc-link {\n",
       "  float: right;\n",
       "  font-size: smaller;\n",
       "  line-height: 1em;\n",
       "  font-family: monospace;\n",
       "  background-color: var(--sklearn-color-background);\n",
       "  border-radius: 1em;\n",
       "  height: 1em;\n",
       "  width: 1em;\n",
       "  text-decoration: none !important;\n",
       "  margin-left: 1ex;\n",
       "  /* unfitted */\n",
       "  border: var(--sklearn-color-unfitted-level-1) 1pt solid;\n",
       "  color: var(--sklearn-color-unfitted-level-1);\n",
       "}\n",
       "\n",
       ".sk-estimator-doc-link.fitted,\n",
       "a:link.sk-estimator-doc-link.fitted,\n",
       "a:visited.sk-estimator-doc-link.fitted {\n",
       "  /* fitted */\n",
       "  border: var(--sklearn-color-fitted-level-1) 1pt solid;\n",
       "  color: var(--sklearn-color-fitted-level-1);\n",
       "}\n",
       "\n",
       "/* On hover */\n",
       "div.sk-estimator:hover .sk-estimator-doc-link:hover,\n",
       ".sk-estimator-doc-link:hover,\n",
       "div.sk-label-container:hover .sk-estimator-doc-link:hover,\n",
       ".sk-estimator-doc-link:hover {\n",
       "  /* unfitted */\n",
       "  background-color: var(--sklearn-color-unfitted-level-3);\n",
       "  color: var(--sklearn-color-background);\n",
       "  text-decoration: none;\n",
       "}\n",
       "\n",
       "div.sk-estimator.fitted:hover .sk-estimator-doc-link.fitted:hover,\n",
       ".sk-estimator-doc-link.fitted:hover,\n",
       "div.sk-label-container:hover .sk-estimator-doc-link.fitted:hover,\n",
       ".sk-estimator-doc-link.fitted:hover {\n",
       "  /* fitted */\n",
       "  background-color: var(--sklearn-color-fitted-level-3);\n",
       "  color: var(--sklearn-color-background);\n",
       "  text-decoration: none;\n",
       "}\n",
       "\n",
       "/* Span, style for the box shown on hovering the info icon */\n",
       ".sk-estimator-doc-link span {\n",
       "  display: none;\n",
       "  z-index: 9999;\n",
       "  position: relative;\n",
       "  font-weight: normal;\n",
       "  right: .2ex;\n",
       "  padding: .5ex;\n",
       "  margin: .5ex;\n",
       "  width: min-content;\n",
       "  min-width: 20ex;\n",
       "  max-width: 50ex;\n",
       "  color: var(--sklearn-color-text);\n",
       "  box-shadow: 2pt 2pt 4pt #999;\n",
       "  /* unfitted */\n",
       "  background: var(--sklearn-color-unfitted-level-0);\n",
       "  border: .5pt solid var(--sklearn-color-unfitted-level-3);\n",
       "}\n",
       "\n",
       ".sk-estimator-doc-link.fitted span {\n",
       "  /* fitted */\n",
       "  background: var(--sklearn-color-fitted-level-0);\n",
       "  border: var(--sklearn-color-fitted-level-3);\n",
       "}\n",
       "\n",
       ".sk-estimator-doc-link:hover span {\n",
       "  display: block;\n",
       "}\n",
       "\n",
       "/* \"?\"-specific style due to the `<a>` HTML tag */\n",
       "\n",
       "#sk-container-id-1 a.estimator_doc_link {\n",
       "  float: right;\n",
       "  font-size: 1rem;\n",
       "  line-height: 1em;\n",
       "  font-family: monospace;\n",
       "  background-color: var(--sklearn-color-background);\n",
       "  border-radius: 1rem;\n",
       "  height: 1rem;\n",
       "  width: 1rem;\n",
       "  text-decoration: none;\n",
       "  /* unfitted */\n",
       "  color: var(--sklearn-color-unfitted-level-1);\n",
       "  border: var(--sklearn-color-unfitted-level-1) 1pt solid;\n",
       "}\n",
       "\n",
       "#sk-container-id-1 a.estimator_doc_link.fitted {\n",
       "  /* fitted */\n",
       "  border: var(--sklearn-color-fitted-level-1) 1pt solid;\n",
       "  color: var(--sklearn-color-fitted-level-1);\n",
       "}\n",
       "\n",
       "/* On hover */\n",
       "#sk-container-id-1 a.estimator_doc_link:hover {\n",
       "  /* unfitted */\n",
       "  background-color: var(--sklearn-color-unfitted-level-3);\n",
       "  color: var(--sklearn-color-background);\n",
       "  text-decoration: none;\n",
       "}\n",
       "\n",
       "#sk-container-id-1 a.estimator_doc_link.fitted:hover {\n",
       "  /* fitted */\n",
       "  background-color: var(--sklearn-color-fitted-level-3);\n",
       "}\n",
       "</style><div id=\"sk-container-id-1\" class=\"sk-top-container\"><div class=\"sk-text-repr-fallback\"><pre>LinearRegression()</pre><b>In a Jupyter environment, please rerun this cell to show the HTML representation or trust the notebook. <br />On GitHub, the HTML representation is unable to render, please try loading this page with nbviewer.org.</b></div><div class=\"sk-container\" hidden><div class=\"sk-item\"><div class=\"sk-estimator fitted sk-toggleable\"><input class=\"sk-toggleable__control sk-hidden--visually\" id=\"sk-estimator-id-1\" type=\"checkbox\" checked><label for=\"sk-estimator-id-1\" class=\"sk-toggleable__label fitted sk-toggleable__label-arrow fitted\">&nbsp;&nbsp;LinearRegression<a class=\"sk-estimator-doc-link fitted\" rel=\"noreferrer\" target=\"_blank\" href=\"https://scikit-learn.org/1.5/modules/generated/sklearn.linear_model.LinearRegression.html\">?<span>Documentation for LinearRegression</span></a><span class=\"sk-estimator-doc-link fitted\">i<span>Fitted</span></span></label><div class=\"sk-toggleable__content fitted\"><pre>LinearRegression()</pre></div> </div></div></div></div>"
      ],
      "text/plain": [
       "LinearRegression()"
      ]
     },
     "execution_count": 51,
     "metadata": {},
     "output_type": "execute_result"
    }
   ],
   "source": [
    "regressor.fit(X_train, Y_train)"
   ]
  },
  {
   "cell_type": "code",
   "execution_count": 52,
   "metadata": {},
   "outputs": [],
   "source": [
    "# dự đoán trên tập dữ liệu train\n",
    "training_data_prediction = regressor.predict(X_train)"
   ]
  },
  {
   "cell_type": "code",
   "execution_count": 53,
   "metadata": {},
   "outputs": [
    {
     "name": "stdout",
     "output_type": "stream",
     "text": [
      "R squared value :  0.738320694483984\n"
     ]
    }
   ],
   "source": [
    "# R squared value\n",
    "r2_train = metrics.r2_score(Y_train, training_data_prediction)\n",
    "print('R squared value : ', r2_train)"
   ]
  },
  {
   "cell_type": "code",
   "execution_count": 54,
   "metadata": {},
   "outputs": [],
   "source": [
    "# dự đoán trên tập dữ liệu test\n",
    "test_data_prediction =regressor.predict(X_test)"
   ]
  },
  {
   "cell_type": "code",
   "execution_count": 55,
   "metadata": {},
   "outputs": [
    {
     "name": "stdout",
     "output_type": "stream",
     "text": [
      "R squared value :  0.7432380500182263\n"
     ]
    }
   ],
   "source": [
    "# R squared value\n",
    "r2_test = metrics.r2_score(Y_test, test_data_prediction)\n",
    "print('R squared value : ', r2_test)"
   ]
  },
  {
   "cell_type": "code",
   "execution_count": 67,
   "metadata": {},
   "outputs": [
    {
     "name": "stdin",
     "output_type": "stream",
     "text": [
      "Nhập tuổi (age, số nguyên dương):  20\n",
      "Nhập giới tính (sex: 0 = nữ, 1 = nam):  1\n",
      "Nhập chỉ số BMI (bmi):  25\n",
      "Nhập số lượng con cái (children, số nguyên dương):  0\n",
      "Nhập tình trạng hút thuốc (smoker: 0 = không, 1 = có):  0\n",
      "Nhập vùng (region: 0 = southwest, 1 = southeast, 2 = northwest, 3 = northeast):  0\n"
     ]
    },
    {
     "name": "stdout",
     "output_type": "stream",
     "text": [
      "Chi phí bảo hiểm dự đoán là: 978.81 USD\n"
     ]
    },
    {
     "name": "stdin",
     "output_type": "stream",
     "text": [
      "Bạn có muốn tiếp tục nhập dữ liệu không? (y/n):  y\n",
      "Nhập tuổi (age, số nguyên dương):  20\n",
      "Nhập giới tính (sex: 0 = nữ, 1 = nam):  1\n",
      "Nhập chỉ số BMI (bmi):  25\n",
      "Nhập số lượng con cái (children, số nguyên dương):  1\n",
      "Nhập tình trạng hút thuốc (smoker: 0 = không, 1 = có):  1\n",
      "Nhập vùng (region: 0 = southwest, 1 = southeast, 2 = northwest, 3 = northeast):  0\n"
     ]
    },
    {
     "name": "stdout",
     "output_type": "stream",
     "text": [
      "Chi phí bảo hiểm dự đoán là: 25108.51 USD\n"
     ]
    },
    {
     "name": "stdin",
     "output_type": "stream",
     "text": [
      "Bạn có muốn tiếp tục nhập dữ liệu không? (y/n):  n\n"
     ]
    }
   ],
   "source": [
    "# Tên các cột của mô hình đã huấn luyện\n",
    "column_names = ['age', 'sex', 'bmi', 'children', 'smoker', 'region']\n",
    "\n",
    "while True:\n",
    "    # Nhập và kiểm tra giá trị tuổi (age)\n",
    "    while True:\n",
    "        try:\n",
    "            age = int(input(\"Nhập tuổi (age, số nguyên dương): \"))\n",
    "            if age > 0:\n",
    "                break\n",
    "            else:\n",
    "                print(\"Tuổi phải là số nguyên dương. Vui lòng nhập lại.\")\n",
    "        except ValueError:\n",
    "            print(\"Giá trị không hợp lệ. Vui lòng nhập số nguyên.\")\n",
    "\n",
    "    # Nhập và kiểm tra giá trị giới tính (sex)\n",
    "    while True:\n",
    "        sex = input(\"Nhập giới tính (sex: 0 = nữ, 1 = nam): \")\n",
    "        if sex in ['0', '1']:\n",
    "            sex = int(sex)\n",
    "            break\n",
    "        else:\n",
    "            print(\"Giá trị không hợp lệ. Vui lòng nhập 0 hoặc 1.\")\n",
    "\n",
    "    # Nhập và kiểm tra giá trị chỉ số BMI (bmi)\n",
    "    while True:\n",
    "        try:\n",
    "            bmi = float(input(\"Nhập chỉ số BMI (bmi): \"))\n",
    "            if bmi > 0:\n",
    "                break\n",
    "            else:\n",
    "                print(\"BMI phải là số dương. Vui lòng nhập lại.\")\n",
    "        except ValueError:\n",
    "            print(\"Giá trị không hợp lệ. Vui lòng nhập số.\")\n",
    "\n",
    "    # Nhập và kiểm tra số lượng con cái (children)\n",
    "    while True:\n",
    "        try:\n",
    "            children = int(input(\"Nhập số lượng con cái (children, số nguyên dương): \"))\n",
    "            if children >= 0:\n",
    "                break\n",
    "            else:\n",
    "                print(\"Số lượng con cái phải là số nguyên không âm. Vui lòng nhập lại.\")\n",
    "        except ValueError:\n",
    "            print(\"Giá trị không hợp lệ. Vui lòng nhập số nguyên.\")\n",
    "\n",
    "    # Nhập và kiểm tra tình trạng hút thuốc (smoker)\n",
    "    while True:\n",
    "        smoker = input(\"Nhập tình trạng hút thuốc (smoker: 0 = không, 1 = có): \")\n",
    "        if smoker in ['0', '1']:\n",
    "            smoker = int(smoker)\n",
    "            break\n",
    "        else:\n",
    "            print(\"Giá trị không hợp lệ. Vui lòng nhập 0 hoặc 1.\")\n",
    "\n",
    "    # Nhập và kiểm tra vùng (region)\n",
    "    while True:\n",
    "        region = input(\"Nhập vùng (region: 0 = southwest, 1 = southeast, 2 = northwest, 3 = northeast): \")\n",
    "        if region in ['0', '1', '2', '3']:\n",
    "            region = int(region)\n",
    "            break\n",
    "        else:\n",
    "            print(\"Giá trị không hợp lệ. Vui lòng nhập giá trị từ 0 đến 3.\")\n",
    "\n",
    "    # Tạo input_data dưới dạng DataFrame\n",
    "    input_data = pd.DataFrame([[age, sex, bmi, children, smoker, region]], columns=column_names)\n",
    "\n",
    "    # Dự đoán chi phí bảo hiểm\n",
    "    prediction = regressor.predict(input_data)\n",
    "    print(f\"Chi phí bảo hiểm dự đoán là: {prediction[0]:.2f} USD\")\n",
    "\n",
    "    # Hỏi người dùng có muốn nhập liệu tiếp không\n",
    "    cont = input(\"Bạn có muốn tiếp tục nhập dữ liệu không? (y/n): \").strip().lower()\n",
    "    if cont != 'y':\n",
    "        break\n"
   ]
  },
  {
   "cell_type": "code",
   "execution_count": 57,
   "metadata": {},
   "outputs": [
    {
     "data": {
      "text/plain": [
       "array([  246.24302547,    68.39127986,   302.02403502,   641.47973924,\n",
       "       23488.22289308,   210.18735489])"
      ]
     },
     "execution_count": 57,
     "metadata": {},
     "output_type": "execute_result"
    }
   ],
   "source": [
    "m = regressor.coef_\n",
    "m"
   ]
  },
  {
   "cell_type": "code",
   "execution_count": 58,
   "metadata": {},
   "outputs": [
    {
     "data": {
      "text/plain": [
       "-11565.04375134092"
      ]
     },
     "execution_count": 58,
     "metadata": {},
     "output_type": "execute_result"
    }
   ],
   "source": [
    "b = regressor.intercept_\n",
    "b"
   ]
  },
  {
   "cell_type": "code",
   "execution_count": 59,
   "metadata": {},
   "outputs": [
    {
     "name": "stdout",
     "output_type": "stream",
     "text": [
      "978.8089133938156\n"
     ]
    }
   ],
   "source": [
    "y = b + np.dot(m, [20,1,25,0,0,0])\n",
    "print(y)"
   ]
  },
  {
   "cell_type": "code",
   "execution_count": 60,
   "metadata": {},
   "outputs": [
    {
     "name": "stdout",
     "output_type": "stream",
     "text": [
      "R-squared: 0.613\n"
     ]
    },
    {
     "data": {
      "image/png": "[encoded data removed]",
      "text/plain": [
       "<Figure size 640x480 with 1 Axes>"
      ]
     },
     "metadata": {},
     "output_type": "display_data"
    },
    {
     "name": "stdout",
     "output_type": "stream",
     "text": [
      "Mean Mouse Size: 3.511\n",
      "Total Sum of Squares (SST): 25.649\n",
      "Residual Sum of Squares (SSR): 9.919\n",
      "Size preriction: [1.28135897 1.98139744 2.44808974 3.30369231 3.61482051 4.00373077\n",
      " 4.54820513 4.93711538 5.48158974]\n"
     ]
    }
   ],
   "source": [
    "import numpy as np\n",
    "import matplotlib.pyplot as plt\n",
    "from sklearn.linear_model import LinearRegression\n",
    "from sklearn.metrics import r2_score\n",
    "\n",
    "# Dữ liệu về cân nặng và kích thước\n",
    "weight = np.array([0.9, 1.8, 2.4, 3.5, 3.9, 4.4, 5.1, 5.6, 6.3]).reshape(-1, 1)\n",
    "size = np.array([1.4, 2.6, 1.0, 3.7, 5.5, 3.2, 3.0, 4.9, 6.3])\n",
    "\n",
    "# Tạo mô hình hồi quy tuyến tính\n",
    "model = LinearRegression()\n",
    "model.fit(weight, size)\n",
    "\n",
    "# Tạo giá trị dự đoán từ mô hình\n",
    "size_pred = model.predict(weight)\n",
    "\n",
    "# Tính giá trị R-squared\n",
    "r_squared = r2_score(size, size_pred)\n",
    "print(f\"R-squared: {r_squared:.3f}\")\n",
    "\n",
    "# Vẽ biểu đồ scatter plot\n",
    "plt.scatter(weight, size, color='red', label='Actual Data')\n",
    "\n",
    "# Vẽ đường hồi quy tuyến tính\n",
    "plt.plot(weight, size_pred, color='blue', label='Regression Line')\n",
    "\n",
    "# Thiết lập tiêu đề và nhãn trục\n",
    "plt.title('Relationship between Weight and Size')\n",
    "plt.xlabel('Weight (kg)')\n",
    "plt.ylabel('Size (units)')\n",
    "\n",
    "# Hiển thị chú thích\n",
    "plt.legend()\n",
    "\n",
    "# Hiển thị biểu đồ\n",
    "plt.show()\n",
    "\n",
    "# Tính giá trị trung bình của kích thước chuột\n",
    "mean_size = np.mean(size)\n",
    "print(f\"Mean Mouse Size: {mean_size:.3f}\")\n",
    "\n",
    "# Tính tổng bình phương sai lệch giữa giá trị thực tế và giá trị trung bình\n",
    "ss_total = np.sum((size - mean_size) ** 2)\n",
    "print(f\"Total Sum of Squares (SST): {ss_total:.3f}\")\n",
    "\n",
    "# Tính tổng bình phương sai lệch giữa giá trị thực tế và giá trị dự đoán\n",
    "ss_residual = np.sum((size - size_pred) ** 2)\n",
    "print(f\"Residual Sum of Squares (SSR): {ss_residual:.3f}\")\n",
    "\n",
    "print(f\"Size preriction: {size_pred}\")"
   ]
  },
  {
   "cell_type": "code",
   "execution_count": 61,
   "metadata": {},
   "outputs": [
    {
     "name": "stdout",
     "output_type": "stream",
     "text": [
      "[140852.83947119   -387.52770723  55737.07378374  -5501.38708285\n",
      "  13710.67170885  54968.55971072 -18976.26710394]\n"
     ]
    }
   ],
   "source": [
    "X = np.array([\n",
    "    [1, 37, 0, 29.83, 2, 1, 2],\n",
    "    [1, 19, 1, 27.90, 0, 0, 1],\n",
    "    [1, 25, 0, 26.22, 0, 1, 2],\n",
    "    [1, 28, 0, 33.00, 3, 1, 0],\n",
    "    [1, 33, 0, 22.705, 0, 1, 3],\n",
    "    [1, 60, 1, 25.84, 0, 1, 3],\n",
    "    [1, 56, 1, 39.82, 0, 1, 0],\n",
    "    [1, 62, 1, 26.29, 0, 0, 0]\n",
    "])\n",
    "\n",
    "y = np.array([6406.41070, 16884.92400, 2721.32080, 44849.46200, 2554.47061, 28923.13692, 11090.71780, 27808.72510])\n",
    "\n",
    "b = np.linalg.inv(X.T @ X) @ X.T @ y\n",
    "\n",
    "print(b)\n",
    "\n"
   ]
  },
  {
   "cell_type": "code",
   "execution_count": 62,
   "metadata": {},
   "outputs": [
    {
     "data": {
      "text/html": [
       "<style>#sk-container-id-2 {\n",
       "  /* Definition of color scheme common for light and dark mode */\n",
       "  --sklearn-color-text: black;\n",
       "  --sklearn-color-line: gray;\n",
       "  /* Definition of color scheme for unfitted estimators */\n",
       "  --sklearn-color-unfitted-level-0: #fff5e6;\n",
       "  --sklearn-color-unfitted-level-1: #f6e4d2;\n",
       "  --sklearn-color-unfitted-level-2: #ffe0b3;\n",
       "  --sklearn-color-unfitted-level-3: chocolate;\n",
       "  /* Definition of color scheme for fitted estimators */\n",
       "  --sklearn-color-fitted-level-0: #f0f8ff;\n",
       "  --sklearn-color-fitted-level-1: #d4ebff;\n",
       "  --sklearn-color-fitted-level-2: #b3dbfd;\n",
       "  --sklearn-color-fitted-level-3: cornflowerblue;\n",
       "\n",
       "  /* Specific color for light theme */\n",
       "  --sklearn-color-text-on-default-background: var(--sg-text-color, var(--theme-code-foreground, var(--jp-content-font-color1, black)));\n",
       "  --sklearn-color-background: var(--sg-background-color, var(--theme-background, var(--jp-layout-color0, white)));\n",
       "  --sklearn-color-border-box: var(--sg-text-color, var(--theme-code-foreground, var(--jp-content-font-color1, black)));\n",
       "  --sklearn-color-icon: #696969;\n",
       "\n",
       "  @media (prefers-color-scheme: dark) {\n",
       "    /* Redefinition of color scheme for dark theme */\n",
       "    --sklearn-color-text-on-default-background: var(--sg-text-color, var(--theme-code-foreground, var(--jp-content-font-color1, white)));\n",
       "    --sklearn-color-background: var(--sg-background-color, var(--theme-background, var(--jp-layout-color0, #111)));\n",
       "    --sklearn-color-border-box: var(--sg-text-color, var(--theme-code-foreground, var(--jp-content-font-color1, white)));\n",
       "    --sklearn-color-icon: #878787;\n",
       "  }\n",
       "}\n",
       "\n",
       "#sk-container-id-2 {\n",
       "  color: var(--sklearn-color-text);\n",
       "}\n",
       "\n",
       "#sk-container-id-2 pre {\n",
       "  padding: 0;\n",
       "}\n",
       "\n",
       "#sk-container-id-2 input.sk-hidden--visually {\n",
       "  border: 0;\n",
       "  clip: rect(1px 1px 1px 1px);\n",
       "  clip: rect(1px, 1px, 1px, 1px);\n",
       "  height: 1px;\n",
       "  margin: -1px;\n",
       "  overflow: hidden;\n",
       "  padding: 0;\n",
       "  position: absolute;\n",
       "  width: 1px;\n",
       "}\n",
       "\n",
       "#sk-container-id-2 div.sk-dashed-wrapped {\n",
       "  border: 1px dashed var(--sklearn-color-line);\n",
       "  margin: 0 0.4em 0.5em 0.4em;\n",
       "  box-sizing: border-box;\n",
       "  padding-bottom: 0.4em;\n",
       "  background-color: var(--sklearn-color-background);\n",
       "}\n",
       "\n",
       "#sk-container-id-2 div.sk-container {\n",
       "  /* jupyter's `normalize.less` sets `[hidden] { display: none; }`\n",
       "     but bootstrap.min.css set `[hidden] { display: none !important; }`\n",
       "     so we also need the `!important` here to be able to override the\n",
       "     default hidden behavior on the sphinx rendered scikit-learn.org.\n",
       "     See: https://github.com/scikit-learn/scikit-learn/issues/21755 */\n",
       "  display: inline-block !important;\n",
       "  position: relative;\n",
       "}\n",
       "\n",
       "#sk-container-id-2 div.sk-text-repr-fallback {\n",
       "  display: none;\n",
       "}\n",
       "\n",
       "div.sk-parallel-item,\n",
       "div.sk-serial,\n",
       "div.sk-item {\n",
       "  /* draw centered vertical line to link estimators */\n",
       "  background-image: linear-gradient(var(--sklearn-color-text-on-default-background), var(--sklearn-color-text-on-default-background));\n",
       "  background-size: 2px 100%;\n",
       "  background-repeat: no-repeat;\n",
       "  background-position: center center;\n",
       "}\n",
       "\n",
       "/* Parallel-specific style estimator block */\n",
       "\n",
       "#sk-container-id-2 div.sk-parallel-item::after {\n",
       "  content: \"\";\n",
       "  width: 100%;\n",
       "  border-bottom: 2px solid var(--sklearn-color-text-on-default-background);\n",
       "  flex-grow: 1;\n",
       "}\n",
       "\n",
       "#sk-container-id-2 div.sk-parallel {\n",
       "  display: flex;\n",
       "  align-items: stretch;\n",
       "  justify-content: center;\n",
       "  background-color: var(--sklearn-color-background);\n",
       "  position: relative;\n",
       "}\n",
       "\n",
       "#sk-container-id-2 div.sk-parallel-item {\n",
       "  display: flex;\n",
       "  flex-direction: column;\n",
       "}\n",
       "\n",
       "#sk-container-id-2 div.sk-parallel-item:first-child::after {\n",
       "  align-self: flex-end;\n",
       "  width: 50%;\n",
       "}\n",
       "\n",
       "#sk-container-id-2 div.sk-parallel-item:last-child::after {\n",
       "  align-self: flex-start;\n",
       "  width: 50%;\n",
       "}\n",
       "\n",
       "#sk-container-id-2 div.sk-parallel-item:only-child::after {\n",
       "  width: 0;\n",
       "}\n",
       "\n",
       "/* Serial-specific style estimator block */\n",
       "\n",
       "#sk-container-id-2 div.sk-serial {\n",
       "  display: flex;\n",
       "  flex-direction: column;\n",
       "  align-items: center;\n",
       "  background-color: var(--sklearn-color-background);\n",
       "  padding-right: 1em;\n",
       "  padding-left: 1em;\n",
       "}\n",
       "\n",
       "\n",
       "/* Toggleable style: style used for estimator/Pipeline/ColumnTransformer box that is\n",
       "clickable and can be expanded/collapsed.\n",
       "- Pipeline and ColumnTransformer use this feature and define the default style\n",
       "- Estimators will overwrite some part of the style using the `sk-estimator` class\n",
       "*/\n",
       "\n",
       "/* Pipeline and ColumnTransformer style (default) */\n",
       "\n",
       "#sk-container-id-2 div.sk-toggleable {\n",
       "  /* Default theme specific background. It is overwritten whether we have a\n",
       "  specific estimator or a Pipeline/ColumnTransformer */\n",
       "  background-color: var(--sklearn-color-background);\n",
       "}\n",
       "\n",
       "/* Toggleable label */\n",
       "#sk-container-id-2 label.sk-toggleable__label {\n",
       "  cursor: pointer;\n",
       "  display: block;\n",
       "  width: 100%;\n",
       "  margin-bottom: 0;\n",
       "  padding: 0.5em;\n",
       "  box-sizing: border-box;\n",
       "  text-align: center;\n",
       "}\n",
       "\n",
       "#sk-container-id-2 label.sk-toggleable__label-arrow:before {\n",
       "  /* Arrow on the left of the label */\n",
       "  content: \"▸\";\n",
       "  float: left;\n",
       "  margin-right: 0.25em;\n",
       "  color: var(--sklearn-color-icon);\n",
       "}\n",
       "\n",
       "#sk-container-id-2 label.sk-toggleable__label-arrow:hover:before {\n",
       "  color: var(--sklearn-color-text);\n",
       "}\n",
       "\n",
       "/* Toggleable content - dropdown */\n",
       "\n",
       "#sk-container-id-2 div.sk-toggleable__content {\n",
       "  max-height: 0;\n",
       "  max-width: 0;\n",
       "  overflow: hidden;\n",
       "  text-align: left;\n",
       "  /* unfitted */\n",
       "  background-color: var(--sklearn-color-unfitted-level-0);\n",
       "}\n",
       "\n",
       "#sk-container-id-2 div.sk-toggleable__content.fitted {\n",
       "  /* fitted */\n",
       "  background-color: var(--sklearn-color-fitted-level-0);\n",
       "}\n",
       "\n",
       "#sk-container-id-2 div.sk-toggleable__content pre {\n",
       "  margin: 0.2em;\n",
       "  border-radius: 0.25em;\n",
       "  color: var(--sklearn-color-text);\n",
       "  /* unfitted */\n",
       "  background-color: var(--sklearn-color-unfitted-level-0);\n",
       "}\n",
       "\n",
       "#sk-container-id-2 div.sk-toggleable__content.fitted pre {\n",
       "  /* unfitted */\n",
       "  background-color: var(--sklearn-color-fitted-level-0);\n",
       "}\n",
       "\n",
       "#sk-container-id-2 input.sk-toggleable__control:checked~div.sk-toggleable__content {\n",
       "  /* Expand drop-down */\n",
       "  max-height: 200px;\n",
       "  max-width: 100%;\n",
       "  overflow: auto;\n",
       "}\n",
       "\n",
       "#sk-container-id-2 input.sk-toggleable__control:checked~label.sk-toggleable__label-arrow:before {\n",
       "  content: \"▾\";\n",
       "}\n",
       "\n",
       "/* Pipeline/ColumnTransformer-specific style */\n",
       "\n",
       "#sk-container-id-2 div.sk-label input.sk-toggleable__control:checked~label.sk-toggleable__label {\n",
       "  color: var(--sklearn-color-text);\n",
       "  background-color: var(--sklearn-color-unfitted-level-2);\n",
       "}\n",
       "\n",
       "#sk-container-id-2 div.sk-label.fitted input.sk-toggleable__control:checked~label.sk-toggleable__label {\n",
       "  background-color: var(--sklearn-color-fitted-level-2);\n",
       "}\n",
       "\n",
       "/* Estimator-specific style */\n",
       "\n",
       "/* Colorize estimator box */\n",
       "#sk-container-id-2 div.sk-estimator input.sk-toggleable__control:checked~label.sk-toggleable__label {\n",
       "  /* unfitted */\n",
       "  background-color: var(--sklearn-color-unfitted-level-2);\n",
       "}\n",
       "\n",
       "#sk-container-id-2 div.sk-estimator.fitted input.sk-toggleable__control:checked~label.sk-toggleable__label {\n",
       "  /* fitted */\n",
       "  background-color: var(--sklearn-color-fitted-level-2);\n",
       "}\n",
       "\n",
       "#sk-container-id-2 div.sk-label label.sk-toggleable__label,\n",
       "#sk-container-id-2 div.sk-label label {\n",
       "  /* The background is the default theme color */\n",
       "  color: var(--sklearn-color-text-on-default-background);\n",
       "}\n",
       "\n",
       "/* On hover, darken the color of the background */\n",
       "#sk-container-id-2 div.sk-label:hover label.sk-toggleable__label {\n",
       "  color: var(--sklearn-color-text);\n",
       "  background-color: var(--sklearn-color-unfitted-level-2);\n",
       "}\n",
       "\n",
       "/* Label box, darken color on hover, fitted */\n",
       "#sk-container-id-2 div.sk-label.fitted:hover label.sk-toggleable__label.fitted {\n",
       "  color: var(--sklearn-color-text);\n",
       "  background-color: var(--sklearn-color-fitted-level-2);\n",
       "}\n",
       "\n",
       "/* Estimator label */\n",
       "\n",
       "#sk-container-id-2 div.sk-label label {\n",
       "  font-family: monospace;\n",
       "  font-weight: bold;\n",
       "  display: inline-block;\n",
       "  line-height: 1.2em;\n",
       "}\n",
       "\n",
       "#sk-container-id-2 div.sk-label-container {\n",
       "  text-align: center;\n",
       "}\n",
       "\n",
       "/* Estimator-specific */\n",
       "#sk-container-id-2 div.sk-estimator {\n",
       "  font-family: monospace;\n",
       "  border: 1px dotted var(--sklearn-color-border-box);\n",
       "  border-radius: 0.25em;\n",
       "  box-sizing: border-box;\n",
       "  margin-bottom: 0.5em;\n",
       "  /* unfitted */\n",
       "  background-color: var(--sklearn-color-unfitted-level-0);\n",
       "}\n",
       "\n",
       "#sk-container-id-2 div.sk-estimator.fitted {\n",
       "  /* fitted */\n",
       "  background-color: var(--sklearn-color-fitted-level-0);\n",
       "}\n",
       "\n",
       "/* on hover */\n",
       "#sk-container-id-2 div.sk-estimator:hover {\n",
       "  /* unfitted */\n",
       "  background-color: var(--sklearn-color-unfitted-level-2);\n",
       "}\n",
       "\n",
       "#sk-container-id-2 div.sk-estimator.fitted:hover {\n",
       "  /* fitted */\n",
       "  background-color: var(--sklearn-color-fitted-level-2);\n",
       "}\n",
       "\n",
       "/* Specification for estimator info (e.g. \"i\" and \"?\") */\n",
       "\n",
       "/* Common style for \"i\" and \"?\" */\n",
       "\n",
       ".sk-estimator-doc-link,\n",
       "a:link.sk-estimator-doc-link,\n",
       "a:visited.sk-estimator-doc-link {\n",
       "  float: right;\n",
       "  font-size: smaller;\n",
       "  line-height: 1em;\n",
       "  font-family: monospace;\n",
       "  background-color: var(--sklearn-color-background);\n",
       "  border-radius: 1em;\n",
       "  height: 1em;\n",
       "  width: 1em;\n",
       "  text-decoration: none !important;\n",
       "  margin-left: 1ex;\n",
       "  /* unfitted */\n",
       "  border: var(--sklearn-color-unfitted-level-1) 1pt solid;\n",
       "  color: var(--sklearn-color-unfitted-level-1);\n",
       "}\n",
       "\n",
       ".sk-estimator-doc-link.fitted,\n",
       "a:link.sk-estimator-doc-link.fitted,\n",
       "a:visited.sk-estimator-doc-link.fitted {\n",
       "  /* fitted */\n",
       "  border: var(--sklearn-color-fitted-level-1) 1pt solid;\n",
       "  color: var(--sklearn-color-fitted-level-1);\n",
       "}\n",
       "\n",
       "/* On hover */\n",
       "div.sk-estimator:hover .sk-estimator-doc-link:hover,\n",
       ".sk-estimator-doc-link:hover,\n",
       "div.sk-label-container:hover .sk-estimator-doc-link:hover,\n",
       ".sk-estimator-doc-link:hover {\n",
       "  /* unfitted */\n",
       "  background-color: var(--sklearn-color-unfitted-level-3);\n",
       "  color: var(--sklearn-color-background);\n",
       "  text-decoration: none;\n",
       "}\n",
       "\n",
       "div.sk-estimator.fitted:hover .sk-estimator-doc-link.fitted:hover,\n",
       ".sk-estimator-doc-link.fitted:hover,\n",
       "div.sk-label-container:hover .sk-estimator-doc-link.fitted:hover,\n",
       ".sk-estimator-doc-link.fitted:hover {\n",
       "  /* fitted */\n",
       "  background-color: var(--sklearn-color-fitted-level-3);\n",
       "  color: var(--sklearn-color-background);\n",
       "  text-decoration: none;\n",
       "}\n",
       "\n",
       "/* Span, style for the box shown on hovering the info icon */\n",
       ".sk-estimator-doc-link span {\n",
       "  display: none;\n",
       "  z-index: 9999;\n",
       "  position: relative;\n",
       "  font-weight: normal;\n",
       "  right: .2ex;\n",
       "  padding: .5ex;\n",
       "  margin: .5ex;\n",
       "  width: min-content;\n",
       "  min-width: 20ex;\n",
       "  max-width: 50ex;\n",
       "  color: var(--sklearn-color-text);\n",
       "  box-shadow: 2pt 2pt 4pt #999;\n",
       "  /* unfitted */\n",
       "  background: var(--sklearn-color-unfitted-level-0);\n",
       "  border: .5pt solid var(--sklearn-color-unfitted-level-3);\n",
       "}\n",
       "\n",
       ".sk-estimator-doc-link.fitted span {\n",
       "  /* fitted */\n",
       "  background: var(--sklearn-color-fitted-level-0);\n",
       "  border: var(--sklearn-color-fitted-level-3);\n",
       "}\n",
       "\n",
       ".sk-estimator-doc-link:hover span {\n",
       "  display: block;\n",
       "}\n",
       "\n",
       "/* \"?\"-specific style due to the `<a>` HTML tag */\n",
       "\n",
       "#sk-container-id-2 a.estimator_doc_link {\n",
       "  float: right;\n",
       "  font-size: 1rem;\n",
       "  line-height: 1em;\n",
       "  font-family: monospace;\n",
       "  background-color: var(--sklearn-color-background);\n",
       "  border-radius: 1rem;\n",
       "  height: 1rem;\n",
       "  width: 1rem;\n",
       "  text-decoration: none;\n",
       "  /* unfitted */\n",
       "  color: var(--sklearn-color-unfitted-level-1);\n",
       "  border: var(--sklearn-color-unfitted-level-1) 1pt solid;\n",
       "}\n",
       "\n",
       "#sk-container-id-2 a.estimator_doc_link.fitted {\n",
       "  /* fitted */\n",
       "  border: var(--sklearn-color-fitted-level-1) 1pt solid;\n",
       "  color: var(--sklearn-color-fitted-level-1);\n",
       "}\n",
       "\n",
       "/* On hover */\n",
       "#sk-container-id-2 a.estimator_doc_link:hover {\n",
       "  /* unfitted */\n",
       "  background-color: var(--sklearn-color-unfitted-level-3);\n",
       "  color: var(--sklearn-color-background);\n",
       "  text-decoration: none;\n",
       "}\n",
       "\n",
       "#sk-container-id-2 a.estimator_doc_link.fitted:hover {\n",
       "  /* fitted */\n",
       "  background-color: var(--sklearn-color-fitted-level-3);\n",
       "}\n",
       "</style><div id=\"sk-container-id-2\" class=\"sk-top-container\"><div class=\"sk-text-repr-fallback\"><pre>LinearRegression()</pre><b>In a Jupyter environment, please rerun this cell to show the HTML representation or trust the notebook. <br />On GitHub, the HTML representation is unable to render, please try loading this page with nbviewer.org.</b></div><div class=\"sk-container\" hidden><div class=\"sk-item\"><div class=\"sk-estimator fitted sk-toggleable\"><input class=\"sk-toggleable__control sk-hidden--visually\" id=\"sk-estimator-id-2\" type=\"checkbox\" checked><label for=\"sk-estimator-id-2\" class=\"sk-toggleable__label fitted sk-toggleable__label-arrow fitted\">&nbsp;&nbsp;LinearRegression<a class=\"sk-estimator-doc-link fitted\" rel=\"noreferrer\" target=\"_blank\" href=\"https://scikit-learn.org/1.5/modules/generated/sklearn.linear_model.LinearRegression.html\">?<span>Documentation for LinearRegression</span></a><span class=\"sk-estimator-doc-link fitted\">i<span>Fitted</span></span></label><div class=\"sk-toggleable__content fitted\"><pre>LinearRegression()</pre></div> </div></div></div></div>"
      ],
      "text/plain": [
       "LinearRegression()"
      ]
     },
     "execution_count": 62,
     "metadata": {},
     "output_type": "execute_result"
    }
   ],
   "source": [
    "regressor_exp = LinearRegression()\n",
    "regressor_exp.fit(X,y)"
   ]
  },
  {
   "cell_type": "code",
   "execution_count": 63,
   "metadata": {},
   "outputs": [
    {
     "name": "stdout",
     "output_type": "stream",
     "text": [
      "[     0.           -387.52770723  55737.07378375  -5501.38708286\n",
      "  13710.67170885  54968.55971072 -18976.26710394]\n"
     ]
    }
   ],
   "source": [
    "b = regressor_exp.coef_\n",
    "print(b)\n"
   ]
  },
  {
   "cell_type": "code",
   "execution_count": 64,
   "metadata": {},
   "outputs": [
    {
     "name": "stdout",
     "output_type": "stream",
     "text": [
      "140852.83947119483\n"
     ]
    }
   ],
   "source": [
    "m = regressor_exp.intercept_\n",
    "print(m)"
   ]
  },
  {
   "cell_type": "code",
   "execution_count": 65,
   "metadata": {},
   "outputs": [
    {
     "data": {
      "text/plain": [
       "array([ 6845.30654249, 16761.92010188,  3934.30298071, 44556.86477168,\n",
       "        1195.18981513, 29222.16699878, 10791.68772122, 27931.72899812])"
      ]
     },
     "execution_count": 65,
     "metadata": {},
     "output_type": "execute_result"
    }
   ],
   "source": [
    "data_prediction = regressor_exp.predict(X)\n",
    "data_prediction"
   ]
  },
  {
   "cell_type": "code",
   "execution_count": 66,
   "metadata": {},
   "outputs": [
    {
     "name": "stdout",
     "output_type": "stream",
     "text": [
      "0.9976073912829436\n"
     ]
    }
   ],
   "source": [
    "r2 = metrics.r2_score(y, data_prediction)\n",
    "print(r2)"
   ]
  },
  {
   "cell_type": "code",
   "execution_count": null,
   "metadata": {},
   "outputs": [],
   "source": []
  }
 ],
 "metadata": {
  "kernelspec": {
   "display_name": "Python 3 (ipykernel)",
   "language": "python",
   "name": "python3"
  },
  "language_info": {
   "codemirror_mode": {
    "name": "ipython",
    "version": 3
   },
   "file_extension": ".py",
   "mimetype": "text/x-python",
   "name": "python",
   "nbconvert_exporter": "python",
   "pygments_lexer": "ipython3",
   "version": "3.12.2"
  }
 },
 "nbformat": 4,
 "nbformat_minor": 4
}
